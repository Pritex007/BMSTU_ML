{
 "cells": [
  {
   "cell_type": "code",
   "execution_count": 1,
   "id": "3290f013",
   "metadata": {},
   "outputs": [],
   "source": [
    "import numpy as np\n",
    "import pandas as pd\n",
    "from typing import Dict, Tuple\n",
    "from scipy import stats\n",
    "from IPython.display import Image\n",
    "from io import StringIO \n",
    "from IPython.display import Image\n",
    "import graphviz \n",
    "import pydotplus\n",
    "from sklearn.datasets import load_diabetes\n",
    "from sklearn.model_selection import cross_val_score\n",
    "from sklearn.model_selection import train_test_split\n",
    "from sklearn.model_selection import GridSearchCV, RandomizedSearchCV\n",
    "from sklearn.metrics import accuracy_score, balanced_accuracy_score\n",
    "from sklearn.metrics import precision_score, recall_score, f1_score, classification_report\n",
    "from sklearn.metrics import confusion_matrix\n",
    "from sklearn.tree import DecisionTreeRegressor, export_graphviz\n",
    "from sklearn.ensemble import RandomForestRegressor\n",
    "from sklearn.ensemble import ExtraTreesRegressor\n",
    "from sklearn.ensemble import GradientBoostingRegressor\n",
    "from sklearn.ensemble import BaggingRegressor\n",
    "from sklearn.linear_model import LinearRegression\n",
    "from sklearn.ensemble import AdaBoostRegressor\n",
    "from sklearn.metrics import mean_absolute_error, mean_squared_error, mean_squared_log_error, median_absolute_error, r2_score \n",
    "from sklearn.metrics import roc_curve, roc_auc_score\n",
    "import seaborn as sns\n",
    "import matplotlib.pyplot as plt\n",
    "from heamy.estimator import Regressor, Classifier\n",
    "from heamy.pipeline import ModelsPipeline\n",
    "from heamy.dataset import Dataset\n",
    "from sklearn.neural_network import MLPRegressor\n",
    "%matplotlib inline \n",
    "sns.set(style=\"ticks\")"
   ]
  },
  {
   "cell_type": "code",
   "execution_count": 2,
   "id": "075959e3",
   "metadata": {},
   "outputs": [
    {
     "data": {
      "text/html": [
       "<div>\n",
       "<style scoped>\n",
       "    .dataframe tbody tr th:only-of-type {\n",
       "        vertical-align: middle;\n",
       "    }\n",
       "\n",
       "    .dataframe tbody tr th {\n",
       "        vertical-align: top;\n",
       "    }\n",
       "\n",
       "    .dataframe thead th {\n",
       "        text-align: right;\n",
       "    }\n",
       "</style>\n",
       "<table border=\"1\" class=\"dataframe\">\n",
       "  <thead>\n",
       "    <tr style=\"text-align: right;\">\n",
       "      <th></th>\n",
       "      <th>age</th>\n",
       "      <th>sex</th>\n",
       "      <th>bmi</th>\n",
       "      <th>bp</th>\n",
       "      <th>s1</th>\n",
       "      <th>s2</th>\n",
       "      <th>s3</th>\n",
       "      <th>s4</th>\n",
       "      <th>s5</th>\n",
       "      <th>s6</th>\n",
       "      <th>target</th>\n",
       "    </tr>\n",
       "  </thead>\n",
       "  <tbody>\n",
       "    <tr>\n",
       "      <th>0</th>\n",
       "      <td>0.038076</td>\n",
       "      <td>0.050680</td>\n",
       "      <td>0.061696</td>\n",
       "      <td>0.021872</td>\n",
       "      <td>-0.044223</td>\n",
       "      <td>-0.034821</td>\n",
       "      <td>-0.043401</td>\n",
       "      <td>-0.002592</td>\n",
       "      <td>0.019907</td>\n",
       "      <td>-0.017646</td>\n",
       "      <td>151.0</td>\n",
       "    </tr>\n",
       "    <tr>\n",
       "      <th>1</th>\n",
       "      <td>-0.001882</td>\n",
       "      <td>-0.044642</td>\n",
       "      <td>-0.051474</td>\n",
       "      <td>-0.026328</td>\n",
       "      <td>-0.008449</td>\n",
       "      <td>-0.019163</td>\n",
       "      <td>0.074412</td>\n",
       "      <td>-0.039493</td>\n",
       "      <td>-0.068332</td>\n",
       "      <td>-0.092204</td>\n",
       "      <td>75.0</td>\n",
       "    </tr>\n",
       "    <tr>\n",
       "      <th>2</th>\n",
       "      <td>0.085299</td>\n",
       "      <td>0.050680</td>\n",
       "      <td>0.044451</td>\n",
       "      <td>-0.005670</td>\n",
       "      <td>-0.045599</td>\n",
       "      <td>-0.034194</td>\n",
       "      <td>-0.032356</td>\n",
       "      <td>-0.002592</td>\n",
       "      <td>0.002861</td>\n",
       "      <td>-0.025930</td>\n",
       "      <td>141.0</td>\n",
       "    </tr>\n",
       "    <tr>\n",
       "      <th>3</th>\n",
       "      <td>-0.089063</td>\n",
       "      <td>-0.044642</td>\n",
       "      <td>-0.011595</td>\n",
       "      <td>-0.036656</td>\n",
       "      <td>0.012191</td>\n",
       "      <td>0.024991</td>\n",
       "      <td>-0.036038</td>\n",
       "      <td>0.034309</td>\n",
       "      <td>0.022688</td>\n",
       "      <td>-0.009362</td>\n",
       "      <td>206.0</td>\n",
       "    </tr>\n",
       "    <tr>\n",
       "      <th>4</th>\n",
       "      <td>0.005383</td>\n",
       "      <td>-0.044642</td>\n",
       "      <td>-0.036385</td>\n",
       "      <td>0.021872</td>\n",
       "      <td>0.003935</td>\n",
       "      <td>0.015596</td>\n",
       "      <td>0.008142</td>\n",
       "      <td>-0.002592</td>\n",
       "      <td>-0.031988</td>\n",
       "      <td>-0.046641</td>\n",
       "      <td>135.0</td>\n",
       "    </tr>\n",
       "  </tbody>\n",
       "</table>\n",
       "</div>"
      ],
      "text/plain": [
       "        age       sex       bmi        bp        s1        s2        s3   \n",
       "0  0.038076  0.050680  0.061696  0.021872 -0.044223 -0.034821 -0.043401  \\\n",
       "1 -0.001882 -0.044642 -0.051474 -0.026328 -0.008449 -0.019163  0.074412   \n",
       "2  0.085299  0.050680  0.044451 -0.005670 -0.045599 -0.034194 -0.032356   \n",
       "3 -0.089063 -0.044642 -0.011595 -0.036656  0.012191  0.024991 -0.036038   \n",
       "4  0.005383 -0.044642 -0.036385  0.021872  0.003935  0.015596  0.008142   \n",
       "\n",
       "         s4        s5        s6  target  \n",
       "0 -0.002592  0.019907 -0.017646   151.0  \n",
       "1 -0.039493 -0.068332 -0.092204    75.0  \n",
       "2 -0.002592  0.002861 -0.025930   141.0  \n",
       "3  0.034309  0.022688 -0.009362   206.0  \n",
       "4 -0.002592 -0.031988 -0.046641   135.0  "
      ]
     },
     "execution_count": 2,
     "metadata": {},
     "output_type": "execute_result"
    }
   ],
   "source": [
    "diabetes = load_diabetes()\n",
    "df_diabetes = pd.DataFrame(diabetes.data,columns=diabetes.feature_names)\n",
    "df_diabetes['target'] = pd.Series(diabetes.target)\n",
    "df_diabetes.head()"
   ]
  },
  {
   "cell_type": "code",
   "execution_count": 3,
   "id": "dd0bb730",
   "metadata": {},
   "outputs": [],
   "source": [
    "X_train, X_test, y_train, y_test = train_test_split(\n",
    "    diabetes.data, diabetes.target, test_size=0.8, random_state=1)"
   ]
  },
  {
   "cell_type": "code",
   "execution_count": 4,
   "id": "28606756",
   "metadata": {},
   "outputs": [],
   "source": [
    "def get_mean_absolute_error(model):  \n",
    "    target1 = model.predict(X_test)\n",
    "    return mean_absolute_error(y_test, target1)"
   ]
  },
  {
   "cell_type": "markdown",
   "id": "0b7d4840",
   "metadata": {},
   "source": [
    "# Boosting"
   ]
  },
  {
   "cell_type": "code",
   "execution_count": 5,
   "id": "6acbfb71",
   "metadata": {},
   "outputs": [
    {
     "name": "stdout",
     "output_type": "stream",
     "text": [
      "[53.761369406388894]\n"
     ]
    },
    {
     "data": {
      "text/plain": [
       "53.761369406388894"
      ]
     },
     "execution_count": 5,
     "metadata": {},
     "output_type": "execute_result"
    }
   ],
   "source": [
    "ab1 = AdaBoostRegressor(n_estimators=5, random_state=10)\n",
    "ab1.fit(X_train, y_train)\n",
    "\n",
    "bst_error = get_mean_absolute_error(ab1)\n",
    "\n",
    "ls = [bst_error]\n",
    "print(ls)\n",
    "bst_error"
   ]
  },
  {
   "cell_type": "markdown",
   "id": "e66dd735",
   "metadata": {},
   "source": [
    "# Bagging"
   ]
  },
  {
   "cell_type": "code",
   "execution_count": 6,
   "id": "36d847b3",
   "metadata": {},
   "outputs": [
    {
     "name": "stdout",
     "output_type": "stream",
     "text": [
      "[53.761369406388894, 54.43728813559323]\n"
     ]
    },
    {
     "name": "stderr",
     "output_type": "stream",
     "text": [
      "C:\\Users\\prite\\AppData\\Local\\Packages\\PythonSoftwareFoundation.Python.3.9_qbz5n2kfra8p0\\LocalCache\\local-packages\\Python39\\site-packages\\sklearn\\ensemble\\_bagging.py:1253: UserWarning: Some inputs do not have OOB scores. This probably means too few estimators were used to compute any reliable oob estimates.\n",
      "  warn(\n"
     ]
    },
    {
     "data": {
      "text/plain": [
       "54.43728813559323"
      ]
     },
     "execution_count": 6,
     "metadata": {},
     "output_type": "execute_result"
    }
   ],
   "source": [
    "bag1 = BaggingRegressor(n_estimators=5, oob_score=True, random_state=10)\n",
    "bag1.fit(X_train, y_train)\n",
    "\n",
    "bag_error = get_mean_absolute_error(bag1)\n",
    "\n",
    "ls.append(bag_error)\n",
    "print(ls)\n",
    "get_mean_absolute_error(bag1)"
   ]
  },
  {
   "cell_type": "markdown",
   "id": "99120976",
   "metadata": {},
   "source": [
    "# Stacking"
   ]
  },
  {
   "cell_type": "code",
   "execution_count": 7,
   "id": "0f053de5",
   "metadata": {},
   "outputs": [],
   "source": [
    "dataset = Dataset(X_train, y_train, X_test)"
   ]
  },
  {
   "cell_type": "code",
   "execution_count": 8,
   "id": "e88cd955",
   "metadata": {},
   "outputs": [
    {
     "name": "stdout",
     "output_type": "stream",
     "text": [
      "Metric: mean_absolute_error\n",
      "Folds accuracy: [66.51167877786833, 69.3507471513273, 48.40985503104768, 61.796529468775475, 54.27968045168703, 40.43980193427986, 48.07677534665627, 38.735365752869015, 57.848093689165, 77.01094737191416]\n",
      "Mean accuracy: 56.245947497559015\n",
      "Standard Deviation: 11.958857389319805\n",
      "Variance: 143.0142700580889\n",
      "[53.761369406388894, 54.43728813559323]\n"
     ]
    }
   ],
   "source": [
    "# Первый уровень - две модели: дерево и линейная регрессия\n",
    "# Второй уровень: линейная регрессия\n",
    "\n",
    "model_tree = Regressor(dataset=dataset, estimator=DecisionTreeRegressor, name='tree')\n",
    "pipeline = ModelsPipeline(model_tree)\n",
    "stack_ds = pipeline.stack(k=10, seed=1)\n",
    "# модель второго уровня\n",
    "stacker = Regressor(dataset=stack_ds, estimator=LinearRegression)\n",
    "results = stacker.validate(k=10,scorer=mean_absolute_error)\n",
    "print(ls)"
   ]
  },
  {
   "cell_type": "markdown",
   "id": "c03275e9",
   "metadata": {},
   "source": [
    "# MLP"
   ]
  },
  {
   "cell_type": "code",
   "execution_count": 9,
   "id": "562fa974",
   "metadata": {},
   "outputs": [
    {
     "name": "stderr",
     "output_type": "stream",
     "text": [
      "C:\\Users\\prite\\AppData\\Local\\Packages\\PythonSoftwareFoundation.Python.3.9_qbz5n2kfra8p0\\LocalCache\\local-packages\\Python39\\site-packages\\sklearn\\neural_network\\_multilayer_perceptron.py:686: ConvergenceWarning: Stochastic Optimizer: Maximum iterations (200) reached and the optimization hasn't converged yet.\n",
      "  warnings.warn(\n"
     ]
    },
    {
     "name": "stdout",
     "output_type": "stream",
     "text": [
      "[53.761369406388894, 54.43728813559323, 145.53921997372854]\n"
     ]
    },
    {
     "data": {
      "text/plain": [
       "145.53921997372854"
      ]
     },
     "execution_count": 9,
     "metadata": {},
     "output_type": "execute_result"
    }
   ],
   "source": [
    "mlp1 = MLPRegressor()\n",
    "mlp1.fit(X_train, y_train)\n",
    "\n",
    "mlp1_error = get_mean_absolute_error(mlp1)\n",
    "\n",
    "ls.append(mlp1_error)\n",
    "\n",
    "print(ls)\n",
    "mlp1_error"
   ]
  },
  {
   "cell_type": "markdown",
   "id": "2f00e6c1",
   "metadata": {},
   "source": [
    "# Gmdh"
   ]
  },
  {
   "cell_type": "code",
   "execution_count": 10,
   "id": "41f03d2d",
   "metadata": {},
   "outputs": [
    {
     "name": "stdout",
     "output_type": "stream",
     "text": [
      "train layer0 in 0.04 sec\n",
      "train layer1 in 0.18 sec\n",
      "train layer2 in 0.16 sec\n",
      "train layer3 in 0.15 sec\n",
      "train layer4 in 0.16 sec\n",
      "train layer5 in 0.16 sec\n",
      "train layer6 in 0.20 sec\n",
      "train layer7 in 0.15 sec\n",
      "train layer8 in 0.16 sec\n",
      "train layer9 in 0.16 sec\n",
      "train layer10 in 0.15 sec\n",
      "train layer11 in 0.15 sec\n",
      "[53.761369406388894, 54.43728813559323, 145.53921997372854, 50.95011646397348]\n"
     ]
    },
    {
     "data": {
      "text/plain": [
       "50.95011646397348"
      ]
     },
     "execution_count": 10,
     "metadata": {},
     "output_type": "execute_result"
    }
   ],
   "source": [
    "from gmdhpy import gmdh\n",
    "gmdh1 = gmdh.Regressor()\n",
    "\n",
    "gmdh1.fit(X_train, y_train)\n",
    "\n",
    "gmdh1_error = get_mean_absolute_error(gmdh1)\n",
    "\n",
    "ls.append(gmdh1_error)\n",
    "print(ls)\n",
    "gmdh1_error"
   ]
  },
  {
   "cell_type": "code",
   "execution_count": 11,
   "id": "4179db6a",
   "metadata": {},
   "outputs": [
    {
     "data": {
      "text/plain": [
       "[53.761369406388894, 54.43728813559323, 145.53921997372854, 50.95011646397348]"
      ]
     },
     "execution_count": 11,
     "metadata": {},
     "output_type": "execute_result"
    },
    {
     "data": {
      "image/png": "[encoded data removed]",
      "text/plain": [
       "<Figure size 640x480 with 1 Axes>"
      ]
     },
     "metadata": {},
     "output_type": "display_data"
    }
   ],
   "source": [
    "x = np.arange(len(ls))\n",
    "plt.bar(x, height=ls)\n",
    "plt.xticks(x, ['Boosting','Bagging', 'MLP', 'GmdhPy']);\n",
    "ls"
   ]
  },
  {
   "cell_type": "code",
   "execution_count": null,
   "id": "28ab3257",
   "metadata": {},
   "outputs": [],
   "source": []
  }
 ],
 "metadata": {
  "kernelspec": {
   "display_name": "Python 3 (ipykernel)",
   "language": "python",
   "name": "python3"
  },
  "language_info": {
   "codemirror_mode": {
    "name": "ipython",
    "version": 3
   },
   "file_extension": ".py",
   "mimetype": "text/x-python",
   "name": "python",
   "nbconvert_exporter": "python",
   "pygments_lexer": "ipython3",
   "version": "3.9.13"
  }
 },
 "nbformat": 4,
 "nbformat_minor": 5
}
