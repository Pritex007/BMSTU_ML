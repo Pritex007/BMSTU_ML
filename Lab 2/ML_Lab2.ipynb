{
 "cells": [
  {
   "cell_type": "code",
   "execution_count": 1,
   "metadata": {},
   "outputs": [],
   "source": [
    "import numpy as np\n",
    "import pandas as pd\n",
    "import seaborn as sns\n",
    "import matplotlib.pyplot as plt\n",
    "%matplotlib inline \n",
    "sns.set(style=\"ticks\")"
   ]
  },
  {
   "cell_type": "code",
   "execution_count": 2,
   "metadata": {},
   "outputs": [],
   "source": [
    "# Будем использовать только обучающую выборку\n",
    "data = pd.read_csv('data/lab2_prepared_2.csv', sep=\",\")"
   ]
  },
  {
   "cell_type": "code",
   "execution_count": 3,
   "metadata": {},
   "outputs": [
    {
     "data": {
      "text/plain": [
       "(234, 12)"
      ]
     },
     "execution_count": 3,
     "metadata": {},
     "output_type": "execute_result"
    }
   ],
   "source": [
    "# размер набора данных\n",
    "data.shape"
   ]
  },
  {
   "cell_type": "code",
   "execution_count": 4,
   "metadata": {},
   "outputs": [
    {
     "data": {
      "text/plain": [
       "Country or Dependency     object\n",
       "Population(2020)          object\n",
       "Yearly Change            float64\n",
       "Net Change                object\n",
       "Density(p/km^2)          float64\n",
       "Land Area(km^2)           object\n",
       "Migrants                 float64\n",
       "Fert Rate                float64\n",
       "Med Age                  float64\n",
       "Urban                    float64\n",
       "World Share              float64\n",
       "Regions                   object\n",
       "dtype: object"
      ]
     },
     "execution_count": 4,
     "metadata": {},
     "output_type": "execute_result"
    }
   ],
   "source": [
    "# типы колонок\n",
    "data.dtypes"
   ]
  },
  {
   "cell_type": "code",
   "execution_count": 5,
   "metadata": {},
   "outputs": [
    {
     "data": {
      "text/plain": [
       "Country or Dependency     0\n",
       "Population(2020)          0\n",
       "Yearly Change             0\n",
       "Net Change                0\n",
       "Density(p/km^2)           0\n",
       "Land Area(km^2)           0\n",
       "Migrants                 33\n",
       "Fert Rate                33\n",
       "Med Age                  33\n",
       "Urban                    13\n",
       "World Share               0\n",
       "Regions                  11\n",
       "dtype: int64"
      ]
     },
     "execution_count": 5,
     "metadata": {},
     "output_type": "execute_result"
    }
   ],
   "source": [
    "# проверим есть ли пропущенные значения\n",
    "data.isnull().sum()"
   ]
  },
  {
   "cell_type": "code",
   "execution_count": 6,
   "metadata": {},
   "outputs": [
    {
     "data": {
      "text/html": [
       "<div>\n",
       "<style scoped>\n",
       "    .dataframe tbody tr th:only-of-type {\n",
       "        vertical-align: middle;\n",
       "    }\n",
       "\n",
       "    .dataframe tbody tr th {\n",
       "        vertical-align: top;\n",
       "    }\n",
       "\n",
       "    .dataframe thead th {\n",
       "        text-align: right;\n",
       "    }\n",
       "</style>\n",
       "<table border=\"1\" class=\"dataframe\">\n",
       "  <thead>\n",
       "    <tr style=\"text-align: right;\">\n",
       "      <th></th>\n",
       "      <th>Country or Dependency</th>\n",
       "      <th>Population(2020)</th>\n",
       "      <th>Yearly Change</th>\n",
       "      <th>Net Change</th>\n",
       "      <th>Density(p/km^2)</th>\n",
       "      <th>Land Area(km^2)</th>\n",
       "      <th>Migrants</th>\n",
       "      <th>Fert Rate</th>\n",
       "      <th>Med Age</th>\n",
       "      <th>Urban</th>\n",
       "      <th>World Share</th>\n",
       "      <th>Regions</th>\n",
       "    </tr>\n",
       "  </thead>\n",
       "  <tbody>\n",
       "    <tr>\n",
       "      <th>0</th>\n",
       "      <td>China</td>\n",
       "      <td>1.439.323.776</td>\n",
       "      <td>0.39</td>\n",
       "      <td>5.540.090</td>\n",
       "      <td>153.000</td>\n",
       "      <td>9.388.211</td>\n",
       "      <td>-348.399</td>\n",
       "      <td>1.7</td>\n",
       "      <td>38.0</td>\n",
       "      <td>61.0</td>\n",
       "      <td>18.47</td>\n",
       "      <td>NaN</td>\n",
       "    </tr>\n",
       "    <tr>\n",
       "      <th>1</th>\n",
       "      <td>India</td>\n",
       "      <td>1.380.004.385</td>\n",
       "      <td>0.99</td>\n",
       "      <td>13.586.631</td>\n",
       "      <td>464.000</td>\n",
       "      <td>2.973.190</td>\n",
       "      <td>-532.687</td>\n",
       "      <td>2.2</td>\n",
       "      <td>28.0</td>\n",
       "      <td>35.0</td>\n",
       "      <td>17.70</td>\n",
       "      <td>Asia</td>\n",
       "    </tr>\n",
       "    <tr>\n",
       "      <th>2</th>\n",
       "      <td>Indonesia</td>\n",
       "      <td>273.523.615</td>\n",
       "      <td>1.07</td>\n",
       "      <td>2.898.047</td>\n",
       "      <td>151.000</td>\n",
       "      <td>1.811.570</td>\n",
       "      <td>-98.955</td>\n",
       "      <td>2.3</td>\n",
       "      <td>30.0</td>\n",
       "      <td>56.0</td>\n",
       "      <td>3.51</td>\n",
       "      <td>Asia</td>\n",
       "    </tr>\n",
       "    <tr>\n",
       "      <th>3</th>\n",
       "      <td>Pakistan</td>\n",
       "      <td>220.892.340</td>\n",
       "      <td>2.00</td>\n",
       "      <td>4.327.022</td>\n",
       "      <td>287.000</td>\n",
       "      <td>770.880</td>\n",
       "      <td>-233.379</td>\n",
       "      <td>3.6</td>\n",
       "      <td>23.0</td>\n",
       "      <td>35.0</td>\n",
       "      <td>2.83</td>\n",
       "      <td>Asia</td>\n",
       "    </tr>\n",
       "    <tr>\n",
       "      <th>4</th>\n",
       "      <td>Bangladesh</td>\n",
       "      <td>164.689.383</td>\n",
       "      <td>1.01</td>\n",
       "      <td>1.643.222</td>\n",
       "      <td>1.265</td>\n",
       "      <td>130.170</td>\n",
       "      <td>-369.501</td>\n",
       "      <td>2.1</td>\n",
       "      <td>28.0</td>\n",
       "      <td>39.0</td>\n",
       "      <td>2.11</td>\n",
       "      <td>Asia</td>\n",
       "    </tr>\n",
       "  </tbody>\n",
       "</table>\n",
       "</div>"
      ],
      "text/plain": [
       "  Country or Dependency Population(2020)  Yearly Change  Net Change  \\\n",
       "0                 China    1.439.323.776           0.39   5.540.090   \n",
       "1                 India    1.380.004.385           0.99  13.586.631   \n",
       "2             Indonesia      273.523.615           1.07   2.898.047   \n",
       "3              Pakistan      220.892.340           2.00   4.327.022   \n",
       "4            Bangladesh      164.689.383           1.01   1.643.222   \n",
       "\n",
       "   Density(p/km^2) Land Area(km^2)  Migrants  Fert Rate  Med Age  Urban  \\\n",
       "0          153.000       9.388.211  -348.399        1.7     38.0   61.0   \n",
       "1          464.000       2.973.190  -532.687        2.2     28.0   35.0   \n",
       "2          151.000       1.811.570   -98.955        2.3     30.0   56.0   \n",
       "3          287.000         770.880  -233.379        3.6     23.0   35.0   \n",
       "4            1.265         130.170  -369.501        2.1     28.0   39.0   \n",
       "\n",
       "   World Share Regions  \n",
       "0        18.47     NaN  \n",
       "1        17.70    Asia  \n",
       "2         3.51    Asia  \n",
       "3         2.83    Asia  \n",
       "4         2.11    Asia  "
      ]
     },
     "execution_count": 6,
     "metadata": {},
     "output_type": "execute_result"
    }
   ],
   "source": [
    "# Первые 5 строк датасета\n",
    "data.head()"
   ]
  },
  {
   "cell_type": "code",
   "execution_count": 7,
   "metadata": {},
   "outputs": [
    {
     "name": "stdout",
     "output_type": "stream",
     "text": [
      "Всего строк: 234\n"
     ]
    }
   ],
   "source": [
    "total_count = data.shape[0]\n",
    "print('Всего строк: {}'.format(total_count))"
   ]
  },
  {
   "cell_type": "markdown",
   "metadata": {},
   "source": [
    "# Обработка пропусков в данных"
   ]
  },
  {
   "cell_type": "code",
   "execution_count": 8,
   "metadata": {},
   "outputs": [
    {
     "data": {
      "text/plain": [
       "((234, 12), (234, 7))"
      ]
     },
     "execution_count": 8,
     "metadata": {},
     "output_type": "execute_result"
    }
   ],
   "source": [
    "# Удаление колонок, содержащих пустые значения\n",
    "data_new_1 = data.dropna(axis=1, how='any')\n",
    "(data.shape, data_new_1.shape)"
   ]
  },
  {
   "cell_type": "code",
   "execution_count": 9,
   "metadata": {},
   "outputs": [
    {
     "data": {
      "text/plain": [
       "((234, 12), (190, 12))"
      ]
     },
     "execution_count": 9,
     "metadata": {},
     "output_type": "execute_result"
    }
   ],
   "source": [
    "# Удаление строк, содержащих пустые значения\n",
    "data_new_2 = data.dropna(axis=0, how='any')\n",
    "(data.shape, data_new_2.shape)"
   ]
  },
  {
   "cell_type": "code",
   "execution_count": 10,
   "metadata": {},
   "outputs": [
    {
     "data": {
      "text/html": [
       "<div>\n",
       "<style scoped>\n",
       "    .dataframe tbody tr th:only-of-type {\n",
       "        vertical-align: middle;\n",
       "    }\n",
       "\n",
       "    .dataframe tbody tr th {\n",
       "        vertical-align: top;\n",
       "    }\n",
       "\n",
       "    .dataframe thead th {\n",
       "        text-align: right;\n",
       "    }\n",
       "</style>\n",
       "<table border=\"1\" class=\"dataframe\">\n",
       "  <thead>\n",
       "    <tr style=\"text-align: right;\">\n",
       "      <th></th>\n",
       "      <th>Country or Dependency</th>\n",
       "      <th>Population(2020)</th>\n",
       "      <th>Yearly Change</th>\n",
       "      <th>Net Change</th>\n",
       "      <th>Density(p/km^2)</th>\n",
       "      <th>Land Area(km^2)</th>\n",
       "      <th>Migrants</th>\n",
       "      <th>Fert Rate</th>\n",
       "      <th>Med Age</th>\n",
       "      <th>Urban</th>\n",
       "      <th>World Share</th>\n",
       "      <th>Regions</th>\n",
       "    </tr>\n",
       "  </thead>\n",
       "  <tbody>\n",
       "    <tr>\n",
       "      <th>0</th>\n",
       "      <td>China</td>\n",
       "      <td>1.439.323.776</td>\n",
       "      <td>0.39</td>\n",
       "      <td>5.540.090</td>\n",
       "      <td>153.000</td>\n",
       "      <td>9.388.211</td>\n",
       "      <td>-348.399</td>\n",
       "      <td>1.7</td>\n",
       "      <td>38.0</td>\n",
       "      <td>61.0</td>\n",
       "      <td>18.47</td>\n",
       "      <td>NaN</td>\n",
       "    </tr>\n",
       "    <tr>\n",
       "      <th>1</th>\n",
       "      <td>India</td>\n",
       "      <td>1.380.004.385</td>\n",
       "      <td>0.99</td>\n",
       "      <td>13.586.631</td>\n",
       "      <td>464.000</td>\n",
       "      <td>2.973.190</td>\n",
       "      <td>-532.687</td>\n",
       "      <td>2.2</td>\n",
       "      <td>28.0</td>\n",
       "      <td>35.0</td>\n",
       "      <td>17.70</td>\n",
       "      <td>Asia</td>\n",
       "    </tr>\n",
       "    <tr>\n",
       "      <th>2</th>\n",
       "      <td>Indonesia</td>\n",
       "      <td>273.523.615</td>\n",
       "      <td>1.07</td>\n",
       "      <td>2.898.047</td>\n",
       "      <td>151.000</td>\n",
       "      <td>1.811.570</td>\n",
       "      <td>-98.955</td>\n",
       "      <td>2.3</td>\n",
       "      <td>30.0</td>\n",
       "      <td>56.0</td>\n",
       "      <td>3.51</td>\n",
       "      <td>Asia</td>\n",
       "    </tr>\n",
       "    <tr>\n",
       "      <th>3</th>\n",
       "      <td>Pakistan</td>\n",
       "      <td>220.892.340</td>\n",
       "      <td>2.00</td>\n",
       "      <td>4.327.022</td>\n",
       "      <td>287.000</td>\n",
       "      <td>770.880</td>\n",
       "      <td>-233.379</td>\n",
       "      <td>3.6</td>\n",
       "      <td>23.0</td>\n",
       "      <td>35.0</td>\n",
       "      <td>2.83</td>\n",
       "      <td>Asia</td>\n",
       "    </tr>\n",
       "    <tr>\n",
       "      <th>4</th>\n",
       "      <td>Bangladesh</td>\n",
       "      <td>164.689.383</td>\n",
       "      <td>1.01</td>\n",
       "      <td>1.643.222</td>\n",
       "      <td>1.265</td>\n",
       "      <td>130.170</td>\n",
       "      <td>-369.501</td>\n",
       "      <td>2.1</td>\n",
       "      <td>28.0</td>\n",
       "      <td>39.0</td>\n",
       "      <td>2.11</td>\n",
       "      <td>Asia</td>\n",
       "    </tr>\n",
       "  </tbody>\n",
       "</table>\n",
       "</div>"
      ],
      "text/plain": [
       "  Country or Dependency Population(2020)  Yearly Change  Net Change  \\\n",
       "0                 China    1.439.323.776           0.39   5.540.090   \n",
       "1                 India    1.380.004.385           0.99  13.586.631   \n",
       "2             Indonesia      273.523.615           1.07   2.898.047   \n",
       "3              Pakistan      220.892.340           2.00   4.327.022   \n",
       "4            Bangladesh      164.689.383           1.01   1.643.222   \n",
       "\n",
       "   Density(p/km^2) Land Area(km^2)  Migrants  Fert Rate  Med Age  Urban  \\\n",
       "0          153.000       9.388.211  -348.399        1.7     38.0   61.0   \n",
       "1          464.000       2.973.190  -532.687        2.2     28.0   35.0   \n",
       "2          151.000       1.811.570   -98.955        2.3     30.0   56.0   \n",
       "3          287.000         770.880  -233.379        3.6     23.0   35.0   \n",
       "4            1.265         130.170  -369.501        2.1     28.0   39.0   \n",
       "\n",
       "   World Share Regions  \n",
       "0        18.47     NaN  \n",
       "1        17.70    Asia  \n",
       "2         3.51    Asia  \n",
       "3         2.83    Asia  \n",
       "4         2.11    Asia  "
      ]
     },
     "execution_count": 10,
     "metadata": {},
     "output_type": "execute_result"
    }
   ],
   "source": [
    "data.head()"
   ]
  },
  {
   "cell_type": "code",
   "execution_count": 11,
   "metadata": {},
   "outputs": [
    {
     "data": {
      "text/html": [
       "<div>\n",
       "<style scoped>\n",
       "    .dataframe tbody tr th:only-of-type {\n",
       "        vertical-align: middle;\n",
       "    }\n",
       "\n",
       "    .dataframe tbody tr th {\n",
       "        vertical-align: top;\n",
       "    }\n",
       "\n",
       "    .dataframe thead th {\n",
       "        text-align: right;\n",
       "    }\n",
       "</style>\n",
       "<table border=\"1\" class=\"dataframe\">\n",
       "  <thead>\n",
       "    <tr style=\"text-align: right;\">\n",
       "      <th></th>\n",
       "      <th>Country or Dependency</th>\n",
       "      <th>Population(2020)</th>\n",
       "      <th>Yearly Change</th>\n",
       "      <th>Net Change</th>\n",
       "      <th>Density(p/km^2)</th>\n",
       "      <th>Land Area(km^2)</th>\n",
       "      <th>Migrants</th>\n",
       "      <th>Fert Rate</th>\n",
       "      <th>Med Age</th>\n",
       "      <th>Urban</th>\n",
       "      <th>World Share</th>\n",
       "      <th>Regions</th>\n",
       "    </tr>\n",
       "  </thead>\n",
       "  <tbody>\n",
       "    <tr>\n",
       "      <th>0</th>\n",
       "      <td>China</td>\n",
       "      <td>1.439.323.776</td>\n",
       "      <td>0.39</td>\n",
       "      <td>5.540.090</td>\n",
       "      <td>153.000</td>\n",
       "      <td>9.388.211</td>\n",
       "      <td>-348.399</td>\n",
       "      <td>1.7</td>\n",
       "      <td>38.0</td>\n",
       "      <td>61.0</td>\n",
       "      <td>18.47</td>\n",
       "      <td>0</td>\n",
       "    </tr>\n",
       "    <tr>\n",
       "      <th>1</th>\n",
       "      <td>India</td>\n",
       "      <td>1.380.004.385</td>\n",
       "      <td>0.99</td>\n",
       "      <td>13.586.631</td>\n",
       "      <td>464.000</td>\n",
       "      <td>2.973.190</td>\n",
       "      <td>-532.687</td>\n",
       "      <td>2.2</td>\n",
       "      <td>28.0</td>\n",
       "      <td>35.0</td>\n",
       "      <td>17.70</td>\n",
       "      <td>Asia</td>\n",
       "    </tr>\n",
       "    <tr>\n",
       "      <th>2</th>\n",
       "      <td>Indonesia</td>\n",
       "      <td>273.523.615</td>\n",
       "      <td>1.07</td>\n",
       "      <td>2.898.047</td>\n",
       "      <td>151.000</td>\n",
       "      <td>1.811.570</td>\n",
       "      <td>-98.955</td>\n",
       "      <td>2.3</td>\n",
       "      <td>30.0</td>\n",
       "      <td>56.0</td>\n",
       "      <td>3.51</td>\n",
       "      <td>Asia</td>\n",
       "    </tr>\n",
       "    <tr>\n",
       "      <th>3</th>\n",
       "      <td>Pakistan</td>\n",
       "      <td>220.892.340</td>\n",
       "      <td>2.00</td>\n",
       "      <td>4.327.022</td>\n",
       "      <td>287.000</td>\n",
       "      <td>770.880</td>\n",
       "      <td>-233.379</td>\n",
       "      <td>3.6</td>\n",
       "      <td>23.0</td>\n",
       "      <td>35.0</td>\n",
       "      <td>2.83</td>\n",
       "      <td>Asia</td>\n",
       "    </tr>\n",
       "    <tr>\n",
       "      <th>4</th>\n",
       "      <td>Bangladesh</td>\n",
       "      <td>164.689.383</td>\n",
       "      <td>1.01</td>\n",
       "      <td>1.643.222</td>\n",
       "      <td>1.265</td>\n",
       "      <td>130.170</td>\n",
       "      <td>-369.501</td>\n",
       "      <td>2.1</td>\n",
       "      <td>28.0</td>\n",
       "      <td>39.0</td>\n",
       "      <td>2.11</td>\n",
       "      <td>Asia</td>\n",
       "    </tr>\n",
       "  </tbody>\n",
       "</table>\n",
       "</div>"
      ],
      "text/plain": [
       "  Country or Dependency Population(2020)  Yearly Change  Net Change  \\\n",
       "0                 China    1.439.323.776           0.39   5.540.090   \n",
       "1                 India    1.380.004.385           0.99  13.586.631   \n",
       "2             Indonesia      273.523.615           1.07   2.898.047   \n",
       "3              Pakistan      220.892.340           2.00   4.327.022   \n",
       "4            Bangladesh      164.689.383           1.01   1.643.222   \n",
       "\n",
       "   Density(p/km^2) Land Area(km^2)  Migrants  Fert Rate  Med Age  Urban  \\\n",
       "0          153.000       9.388.211  -348.399        1.7     38.0   61.0   \n",
       "1          464.000       2.973.190  -532.687        2.2     28.0   35.0   \n",
       "2          151.000       1.811.570   -98.955        2.3     30.0   56.0   \n",
       "3          287.000         770.880  -233.379        3.6     23.0   35.0   \n",
       "4            1.265         130.170  -369.501        2.1     28.0   39.0   \n",
       "\n",
       "   World Share Regions  \n",
       "0        18.47       0  \n",
       "1        17.70    Asia  \n",
       "2         3.51    Asia  \n",
       "3         2.83    Asia  \n",
       "4         2.11    Asia  "
      ]
     },
     "execution_count": 11,
     "metadata": {},
     "output_type": "execute_result"
    }
   ],
   "source": [
    "# Заполнение всех пропущенных значений нулями\n",
    "# В данном случае это некорректно, так как нулями заполняются в том числе категориальные колонки\n",
    "data_new_3 = data.fillna(0)\n",
    "data_new_3.head()"
   ]
  },
  {
   "cell_type": "markdown",
   "metadata": {},
   "source": [
    "### Обработка пропусков в числовых данных"
   ]
  },
  {
   "cell_type": "code",
   "execution_count": 12,
   "metadata": {},
   "outputs": [
    {
     "name": "stdout",
     "output_type": "stream",
     "text": [
      "Колонка Migrants. Тип данных float64. Количество пустых значений 33, 14.1%.\n",
      "Колонка Fert Rate. Тип данных float64. Количество пустых значений 33, 14.1%.\n",
      "Колонка Med Age. Тип данных float64. Количество пустых значений 33, 14.1%.\n",
      "Колонка Urban. Тип данных float64. Количество пустых значений 13, 5.56%.\n"
     ]
    }
   ],
   "source": [
    "# Выберем числовые колонки с пропущенными значениями\n",
    "# Цикл по колонкам датасета\n",
    "num_cols = []\n",
    "for col in data.columns:\n",
    "    # Количество пустых значений \n",
    "    temp_null_count = data[data[col].isnull()].shape[0]\n",
    "    dt = str(data[col].dtype)\n",
    "    if temp_null_count>0 and (dt=='float64' or dt=='int64'):\n",
    "        num_cols.append(col)\n",
    "        temp_perc = round((temp_null_count / total_count) * 100.0, 2)\n",
    "        print('Колонка {}. Тип данных {}. Количество пустых значений {}, {}%.'.format(col, dt, temp_null_count, temp_perc))"
   ]
  },
  {
   "cell_type": "code",
   "execution_count": 13,
   "metadata": {},
   "outputs": [
    {
     "data": {
      "text/html": [
       "<div>\n",
       "<style scoped>\n",
       "    .dataframe tbody tr th:only-of-type {\n",
       "        vertical-align: middle;\n",
       "    }\n",
       "\n",
       "    .dataframe tbody tr th {\n",
       "        vertical-align: top;\n",
       "    }\n",
       "\n",
       "    .dataframe thead th {\n",
       "        text-align: right;\n",
       "    }\n",
       "</style>\n",
       "<table border=\"1\" class=\"dataframe\">\n",
       "  <thead>\n",
       "    <tr style=\"text-align: right;\">\n",
       "      <th></th>\n",
       "      <th>Migrants</th>\n",
       "      <th>Fert Rate</th>\n",
       "      <th>Med Age</th>\n",
       "      <th>Urban</th>\n",
       "    </tr>\n",
       "  </thead>\n",
       "  <tbody>\n",
       "    <tr>\n",
       "      <th>0</th>\n",
       "      <td>-348.399</td>\n",
       "      <td>1.7</td>\n",
       "      <td>38.0</td>\n",
       "      <td>61.0</td>\n",
       "    </tr>\n",
       "    <tr>\n",
       "      <th>1</th>\n",
       "      <td>-532.687</td>\n",
       "      <td>2.2</td>\n",
       "      <td>28.0</td>\n",
       "      <td>35.0</td>\n",
       "    </tr>\n",
       "    <tr>\n",
       "      <th>2</th>\n",
       "      <td>-98.955</td>\n",
       "      <td>2.3</td>\n",
       "      <td>30.0</td>\n",
       "      <td>56.0</td>\n",
       "    </tr>\n",
       "    <tr>\n",
       "      <th>3</th>\n",
       "      <td>-233.379</td>\n",
       "      <td>3.6</td>\n",
       "      <td>23.0</td>\n",
       "      <td>35.0</td>\n",
       "    </tr>\n",
       "    <tr>\n",
       "      <th>4</th>\n",
       "      <td>-369.501</td>\n",
       "      <td>2.1</td>\n",
       "      <td>28.0</td>\n",
       "      <td>39.0</td>\n",
       "    </tr>\n",
       "    <tr>\n",
       "      <th>...</th>\n",
       "      <td>...</td>\n",
       "      <td>...</td>\n",
       "      <td>...</td>\n",
       "      <td>...</td>\n",
       "    </tr>\n",
       "    <tr>\n",
       "      <th>229</th>\n",
       "      <td>NaN</td>\n",
       "      <td>NaN</td>\n",
       "      <td>NaN</td>\n",
       "      <td>62.0</td>\n",
       "    </tr>\n",
       "    <tr>\n",
       "      <th>230</th>\n",
       "      <td>NaN</td>\n",
       "      <td>NaN</td>\n",
       "      <td>NaN</td>\n",
       "      <td>0.0</td>\n",
       "    </tr>\n",
       "    <tr>\n",
       "      <th>231</th>\n",
       "      <td>NaN</td>\n",
       "      <td>NaN</td>\n",
       "      <td>NaN</td>\n",
       "      <td>NaN</td>\n",
       "    </tr>\n",
       "    <tr>\n",
       "      <th>232</th>\n",
       "      <td>NaN</td>\n",
       "      <td>NaN</td>\n",
       "      <td>NaN</td>\n",
       "      <td>46.0</td>\n",
       "    </tr>\n",
       "    <tr>\n",
       "      <th>233</th>\n",
       "      <td>NaN</td>\n",
       "      <td>NaN</td>\n",
       "      <td>NaN</td>\n",
       "      <td>0.0</td>\n",
       "    </tr>\n",
       "  </tbody>\n",
       "</table>\n",
       "<p>234 rows × 4 columns</p>\n",
       "</div>"
      ],
      "text/plain": [
       "     Migrants  Fert Rate  Med Age  Urban\n",
       "0    -348.399        1.7     38.0   61.0\n",
       "1    -532.687        2.2     28.0   35.0\n",
       "2     -98.955        2.3     30.0   56.0\n",
       "3    -233.379        3.6     23.0   35.0\n",
       "4    -369.501        2.1     28.0   39.0\n",
       "..        ...        ...      ...    ...\n",
       "229       NaN        NaN      NaN   62.0\n",
       "230       NaN        NaN      NaN    0.0\n",
       "231       NaN        NaN      NaN    NaN\n",
       "232       NaN        NaN      NaN   46.0\n",
       "233       NaN        NaN      NaN    0.0\n",
       "\n",
       "[234 rows x 4 columns]"
      ]
     },
     "execution_count": 13,
     "metadata": {},
     "output_type": "execute_result"
    }
   ],
   "source": [
    "# Фильтр по колонкам с пропущенными значениями\n",
    "data_num = data[num_cols]\n",
    "data_num"
   ]
  },
  {
   "cell_type": "code",
   "execution_count": 14,
   "metadata": {},
   "outputs": [
    {
     "data": {
      "image/png": "[encoded data removed]",
      "text/plain": [
       "<Figure size 640x480 with 1 Axes>"
      ]
     },
     "metadata": {},
     "output_type": "display_data"
    },
    {
     "data": {
      "image/png": "[encoded data removed]",
      "text/plain": [
       "<Figure size 640x480 with 1 Axes>"
      ]
     },
     "metadata": {},
     "output_type": "display_data"
    },
    {
     "data": {
      "image/png": "[encoded data removed]",
      "text/plain": [
       "<Figure size 640x480 with 1 Axes>"
      ]
     },
     "metadata": {},
     "output_type": "display_data"
    },
    {
     "data": {
      "image/png": "[encoded data removed]",
      "text/plain": [
       "<Figure size 640x480 with 1 Axes>"
      ]
     },
     "metadata": {},
     "output_type": "display_data"
    }
   ],
   "source": [
    "# Гистограмма по признакам\n",
    "for col in data_num:\n",
    "    plt.hist(data[col], 50)\n",
    "    plt.xlabel(col)\n",
    "    plt.show()"
   ]
  },
  {
   "cell_type": "code",
   "execution_count": 15,
   "metadata": {},
   "outputs": [
    {
     "data": {
      "text/html": [
       "<div>\n",
       "<style scoped>\n",
       "    .dataframe tbody tr th:only-of-type {\n",
       "        vertical-align: middle;\n",
       "    }\n",
       "\n",
       "    .dataframe tbody tr th {\n",
       "        vertical-align: top;\n",
       "    }\n",
       "\n",
       "    .dataframe thead th {\n",
       "        text-align: right;\n",
       "    }\n",
       "</style>\n",
       "<table border=\"1\" class=\"dataframe\">\n",
       "  <thead>\n",
       "    <tr style=\"text-align: right;\">\n",
       "      <th></th>\n",
       "      <th>Fert Rate</th>\n",
       "    </tr>\n",
       "  </thead>\n",
       "  <tbody>\n",
       "    <tr>\n",
       "      <th>0</th>\n",
       "      <td>1.7</td>\n",
       "    </tr>\n",
       "    <tr>\n",
       "      <th>1</th>\n",
       "      <td>2.2</td>\n",
       "    </tr>\n",
       "    <tr>\n",
       "      <th>2</th>\n",
       "      <td>2.3</td>\n",
       "    </tr>\n",
       "    <tr>\n",
       "      <th>3</th>\n",
       "      <td>3.6</td>\n",
       "    </tr>\n",
       "    <tr>\n",
       "      <th>4</th>\n",
       "      <td>2.1</td>\n",
       "    </tr>\n",
       "  </tbody>\n",
       "</table>\n",
       "</div>"
      ],
      "text/plain": [
       "   Fert Rate\n",
       "0        1.7\n",
       "1        2.2\n",
       "2        2.3\n",
       "3        3.6\n",
       "4        2.1"
      ]
     },
     "execution_count": 15,
     "metadata": {},
     "output_type": "execute_result"
    }
   ],
   "source": [
    "data_num_Fert_Rate = data_num[['Fert Rate']]\n",
    "data_num_Fert_Rate.head()"
   ]
  },
  {
   "cell_type": "code",
   "execution_count": 16,
   "metadata": {},
   "outputs": [],
   "source": [
    "from sklearn.impute import SimpleImputer\n",
    "from sklearn.impute import MissingIndicator"
   ]
  },
  {
   "cell_type": "code",
   "execution_count": 17,
   "metadata": {},
   "outputs": [
    {
     "data": {
      "text/plain": [
       "array([[False],\n",
       "       [False],\n",
       "       [False],\n",
       "       [False],\n",
       "       [False],\n",
       "       [False],\n",
       "       [False],\n",
       "       [False],\n",
       "       [False],\n",
       "       [False],\n",
       "       [False],\n",
       "       [False],\n",
       "       [False],\n",
       "       [False],\n",
       "       [False],\n",
       "       [False],\n",
       "       [False],\n",
       "       [False],\n",
       "       [False],\n",
       "       [False],\n",
       "       [False],\n",
       "       [False],\n",
       "       [False],\n",
       "       [False],\n",
       "       [False],\n",
       "       [False],\n",
       "       [False],\n",
       "       [False],\n",
       "       [False],\n",
       "       [False],\n",
       "       [False],\n",
       "       [False],\n",
       "       [False],\n",
       "       [False],\n",
       "       [False],\n",
       "       [False],\n",
       "       [False],\n",
       "       [False],\n",
       "       [False],\n",
       "       [False],\n",
       "       [False],\n",
       "       [False],\n",
       "       [False],\n",
       "       [False],\n",
       "       [False],\n",
       "       [False],\n",
       "       [False],\n",
       "       [False],\n",
       "       [False],\n",
       "       [False],\n",
       "       [False],\n",
       "       [False],\n",
       "       [False],\n",
       "       [False],\n",
       "       [False],\n",
       "       [False],\n",
       "       [False],\n",
       "       [False],\n",
       "       [False],\n",
       "       [False],\n",
       "       [False],\n",
       "       [False],\n",
       "       [False],\n",
       "       [False],\n",
       "       [False],\n",
       "       [False],\n",
       "       [False],\n",
       "       [False],\n",
       "       [False],\n",
       "       [False],\n",
       "       [False],\n",
       "       [False],\n",
       "       [False],\n",
       "       [False],\n",
       "       [False],\n",
       "       [False],\n",
       "       [False],\n",
       "       [False],\n",
       "       [False],\n",
       "       [False],\n",
       "       [False],\n",
       "       [False],\n",
       "       [False],\n",
       "       [False],\n",
       "       [False],\n",
       "       [False],\n",
       "       [False],\n",
       "       [False],\n",
       "       [False],\n",
       "       [False],\n",
       "       [False],\n",
       "       [False],\n",
       "       [False],\n",
       "       [False],\n",
       "       [False],\n",
       "       [False],\n",
       "       [False],\n",
       "       [False],\n",
       "       [False],\n",
       "       [False],\n",
       "       [False],\n",
       "       [False],\n",
       "       [False],\n",
       "       [False],\n",
       "       [False],\n",
       "       [False],\n",
       "       [False],\n",
       "       [False],\n",
       "       [ True],\n",
       "       [False],\n",
       "       [False],\n",
       "       [False],\n",
       "       [False],\n",
       "       [False],\n",
       "       [False],\n",
       "       [False],\n",
       "       [False],\n",
       "       [False],\n",
       "       [False],\n",
       "       [False],\n",
       "       [False],\n",
       "       [False],\n",
       "       [False],\n",
       "       [False],\n",
       "       [False],\n",
       "       [False],\n",
       "       [False],\n",
       "       [False],\n",
       "       [False],\n",
       "       [False],\n",
       "       [False],\n",
       "       [False],\n",
       "       [False],\n",
       "       [False],\n",
       "       [False],\n",
       "       [False],\n",
       "       [False],\n",
       "       [False],\n",
       "       [False],\n",
       "       [False],\n",
       "       [False],\n",
       "       [False],\n",
       "       [False],\n",
       "       [False],\n",
       "       [False],\n",
       "       [False],\n",
       "       [False],\n",
       "       [False],\n",
       "       [False],\n",
       "       [ True],\n",
       "       [ True],\n",
       "       [ True],\n",
       "       [ True],\n",
       "       [ True],\n",
       "       [ True],\n",
       "       [ True],\n",
       "       [ True],\n",
       "       [False],\n",
       "       [False],\n",
       "       [False],\n",
       "       [False],\n",
       "       [False],\n",
       "       [False],\n",
       "       [False],\n",
       "       [False],\n",
       "       [False],\n",
       "       [False],\n",
       "       [False],\n",
       "       [False],\n",
       "       [False],\n",
       "       [False],\n",
       "       [False],\n",
       "       [False],\n",
       "       [False],\n",
       "       [False],\n",
       "       [False],\n",
       "       [False],\n",
       "       [False],\n",
       "       [False],\n",
       "       [False],\n",
       "       [False],\n",
       "       [False],\n",
       "       [False],\n",
       "       [False],\n",
       "       [False],\n",
       "       [False],\n",
       "       [False],\n",
       "       [False],\n",
       "       [False],\n",
       "       [False],\n",
       "       [False],\n",
       "       [False],\n",
       "       [False],\n",
       "       [False],\n",
       "       [False],\n",
       "       [ True],\n",
       "       [ True],\n",
       "       [ True],\n",
       "       [ True],\n",
       "       [ True],\n",
       "       [ True],\n",
       "       [ True],\n",
       "       [ True],\n",
       "       [ True],\n",
       "       [ True],\n",
       "       [ True],\n",
       "       [False],\n",
       "       [False],\n",
       "       [ True],\n",
       "       [ True],\n",
       "       [ True],\n",
       "       [False],\n",
       "       [False],\n",
       "       [False],\n",
       "       [False],\n",
       "       [False],\n",
       "       [False],\n",
       "       [False],\n",
       "       [False],\n",
       "       [False],\n",
       "       [False],\n",
       "       [False],\n",
       "       [False],\n",
       "       [False],\n",
       "       [ True],\n",
       "       [ True],\n",
       "       [ True],\n",
       "       [ True],\n",
       "       [ True],\n",
       "       [ True],\n",
       "       [ True],\n",
       "       [ True],\n",
       "       [ True],\n",
       "       [ True]])"
      ]
     },
     "execution_count": 17,
     "metadata": {},
     "output_type": "execute_result"
    }
   ],
   "source": [
    "# Фильтр для проверки заполнения пустых значений\n",
    "indicator = MissingIndicator()\n",
    "mask_missing_values_only = indicator.fit_transform(data_num_Fert_Rate)\n",
    "mask_missing_values_only"
   ]
  },
  {
   "cell_type": "code",
   "execution_count": 18,
   "metadata": {},
   "outputs": [],
   "source": [
    "strategies=['mean', 'median', 'most_frequent']"
   ]
  },
  {
   "cell_type": "code",
   "execution_count": 19,
   "metadata": {},
   "outputs": [],
   "source": [
    "def test_num_impute(strategy_param):\n",
    "    imp_num = SimpleImputer(strategy=strategy_param)\n",
    "    data_num_imp = imp_num.fit_transform(data_num_Fert_Rate)\n",
    "    return data_num_imp[mask_missing_values_only]"
   ]
  },
  {
   "cell_type": "code",
   "execution_count": 20,
   "metadata": {},
   "outputs": [
    {
     "data": {
      "text/plain": [
       "('mean',\n",
       " array([2.6920398, 2.6920398, 2.6920398, 2.6920398, 2.6920398, 2.6920398,\n",
       "        2.6920398, 2.6920398, 2.6920398, 2.6920398, 2.6920398, 2.6920398,\n",
       "        2.6920398, 2.6920398, 2.6920398, 2.6920398, 2.6920398, 2.6920398,\n",
       "        2.6920398, 2.6920398, 2.6920398, 2.6920398, 2.6920398, 2.6920398,\n",
       "        2.6920398, 2.6920398, 2.6920398, 2.6920398, 2.6920398, 2.6920398,\n",
       "        2.6920398, 2.6920398, 2.6920398]))"
      ]
     },
     "execution_count": 20,
     "metadata": {},
     "output_type": "execute_result"
    }
   ],
   "source": [
    "strategies[0], test_num_impute(strategies[0])"
   ]
  },
  {
   "cell_type": "code",
   "execution_count": 21,
   "metadata": {},
   "outputs": [
    {
     "data": {
      "text/plain": [
       "('median',\n",
       " array([2.3, 2.3, 2.3, 2.3, 2.3, 2.3, 2.3, 2.3, 2.3, 2.3, 2.3, 2.3, 2.3,\n",
       "        2.3, 2.3, 2.3, 2.3, 2.3, 2.3, 2.3, 2.3, 2.3, 2.3, 2.3, 2.3, 2.3,\n",
       "        2.3, 2.3, 2.3, 2.3, 2.3, 2.3, 2.3]))"
      ]
     },
     "execution_count": 21,
     "metadata": {},
     "output_type": "execute_result"
    }
   ],
   "source": [
    "strategies[1], test_num_impute(strategies[1])"
   ]
  },
  {
   "cell_type": "code",
   "execution_count": 22,
   "metadata": {},
   "outputs": [
    {
     "name": "stderr",
     "output_type": "stream",
     "text": [
      "C:\\Users\\prite\\anaconda3\\lib\\site-packages\\sklearn\\impute\\_base.py:49: FutureWarning: Unlike other reduction functions (e.g. `skew`, `kurtosis`), the default behavior of `mode` typically preserves the axis it acts along. In SciPy 1.11.0, this behavior will change: the default value of `keepdims` will become False, the `axis` over which the statistic is taken will be eliminated, and the value None will no longer be accepted. Set `keepdims` to True or False to avoid this warning.\n",
      "  mode = stats.mode(array)\n"
     ]
    },
    {
     "data": {
      "text/plain": [
       "('most_frequent',\n",
       " array([1.8, 1.8, 1.8, 1.8, 1.8, 1.8, 1.8, 1.8, 1.8, 1.8, 1.8, 1.8, 1.8,\n",
       "        1.8, 1.8, 1.8, 1.8, 1.8, 1.8, 1.8, 1.8, 1.8, 1.8, 1.8, 1.8, 1.8,\n",
       "        1.8, 1.8, 1.8, 1.8, 1.8, 1.8, 1.8]))"
      ]
     },
     "execution_count": 22,
     "metadata": {},
     "output_type": "execute_result"
    }
   ],
   "source": [
    "strategies[2], test_num_impute(strategies[2])"
   ]
  },
  {
   "cell_type": "code",
   "execution_count": 23,
   "metadata": {},
   "outputs": [],
   "source": [
    "# Более сложная функция, которая позволяет задавать колонку и вид импьютации\n",
    "def test_num_impute_col(dataset, column, strategy_param):\n",
    "    temp_data = dataset[[column]]\n",
    "    \n",
    "    indicator = MissingIndicator()\n",
    "    mask_missing_values_only = indicator.fit_transform(temp_data)\n",
    "    \n",
    "    imp_num = SimpleImputer(strategy=strategy_param)\n",
    "    data_num_imp = imp_num.fit_transform(temp_data)\n",
    "    \n",
    "    filled_data = data_num_imp[mask_missing_values_only]\n",
    "    \n",
    "    return column, strategy_param, filled_data.size, filled_data[0], filled_data[filled_data.size-1]"
   ]
  },
  {
   "cell_type": "code",
   "execution_count": 24,
   "metadata": {},
   "outputs": [
    {
     "data": {
      "text/html": [
       "<div>\n",
       "<style scoped>\n",
       "    .dataframe tbody tr th:only-of-type {\n",
       "        vertical-align: middle;\n",
       "    }\n",
       "\n",
       "    .dataframe tbody tr th {\n",
       "        vertical-align: top;\n",
       "    }\n",
       "\n",
       "    .dataframe thead th {\n",
       "        text-align: right;\n",
       "    }\n",
       "</style>\n",
       "<table border=\"1\" class=\"dataframe\">\n",
       "  <thead>\n",
       "    <tr style=\"text-align: right;\">\n",
       "      <th></th>\n",
       "      <th>Urban</th>\n",
       "    </tr>\n",
       "  </thead>\n",
       "  <tbody>\n",
       "    <tr>\n",
       "      <th>count</th>\n",
       "      <td>221.000000</td>\n",
       "    </tr>\n",
       "    <tr>\n",
       "      <th>mean</th>\n",
       "      <td>59.714932</td>\n",
       "    </tr>\n",
       "    <tr>\n",
       "      <th>std</th>\n",
       "      <td>23.818160</td>\n",
       "    </tr>\n",
       "    <tr>\n",
       "      <th>min</th>\n",
       "      <td>0.000000</td>\n",
       "    </tr>\n",
       "    <tr>\n",
       "      <th>25%</th>\n",
       "      <td>43.000000</td>\n",
       "    </tr>\n",
       "    <tr>\n",
       "      <th>50%</th>\n",
       "      <td>62.000000</td>\n",
       "    </tr>\n",
       "    <tr>\n",
       "      <th>75%</th>\n",
       "      <td>79.000000</td>\n",
       "    </tr>\n",
       "    <tr>\n",
       "      <th>max</th>\n",
       "      <td>100.000000</td>\n",
       "    </tr>\n",
       "  </tbody>\n",
       "</table>\n",
       "</div>"
      ],
      "text/plain": [
       "            Urban\n",
       "count  221.000000\n",
       "mean    59.714932\n",
       "std     23.818160\n",
       "min      0.000000\n",
       "25%     43.000000\n",
       "50%     62.000000\n",
       "75%     79.000000\n",
       "max    100.000000"
      ]
     },
     "execution_count": 24,
     "metadata": {},
     "output_type": "execute_result"
    }
   ],
   "source": [
    "data[['Urban']].describe()"
   ]
  },
  {
   "cell_type": "code",
   "execution_count": 25,
   "metadata": {},
   "outputs": [
    {
     "data": {
      "text/plain": [
       "('Urban', 'mean', 13, 59.71493212669683, 59.71493212669683)"
      ]
     },
     "execution_count": 25,
     "metadata": {},
     "output_type": "execute_result"
    }
   ],
   "source": [
    "test_num_impute_col(data, 'Urban', strategies[0])"
   ]
  },
  {
   "cell_type": "code",
   "execution_count": 26,
   "metadata": {},
   "outputs": [
    {
     "data": {
      "text/plain": [
       "('Urban', 'median', 13, 62.0, 62.0)"
      ]
     },
     "execution_count": 26,
     "metadata": {},
     "output_type": "execute_result"
    }
   ],
   "source": [
    "test_num_impute_col(data, 'Urban', strategies[1])"
   ]
  },
  {
   "cell_type": "code",
   "execution_count": 27,
   "metadata": {},
   "outputs": [
    {
     "name": "stderr",
     "output_type": "stream",
     "text": [
      "C:\\Users\\prite\\anaconda3\\lib\\site-packages\\sklearn\\impute\\_base.py:49: FutureWarning: Unlike other reduction functions (e.g. `skew`, `kurtosis`), the default behavior of `mode` typically preserves the axis it acts along. In SciPy 1.11.0, this behavior will change: the default value of `keepdims` will become False, the `axis` over which the statistic is taken will be eliminated, and the value None will no longer be accepted. Set `keepdims` to True or False to avoid this warning.\n",
      "  mode = stats.mode(array)\n"
     ]
    },
    {
     "data": {
      "text/plain": [
       "('Urban', 'most_frequent', 13, 57.0, 57.0)"
      ]
     },
     "execution_count": 27,
     "metadata": {},
     "output_type": "execute_result"
    }
   ],
   "source": [
    "test_num_impute_col(data, 'Urban', strategies[2])"
   ]
  },
  {
   "cell_type": "markdown",
   "metadata": {},
   "source": [
    "### Обработка пропусков в категориальных данных"
   ]
  },
  {
   "cell_type": "code",
   "execution_count": 28,
   "metadata": {},
   "outputs": [
    {
     "name": "stdout",
     "output_type": "stream",
     "text": [
      "Колонка Regions. Тип данных object. Количество пустых значений 11, 4.7%.\n"
     ]
    }
   ],
   "source": [
    "# Выберем категориальные колонки с пропущенными значениями\n",
    "# Цикл по колонкам датасета\n",
    "cat_cols = []\n",
    "for col in data.columns:\n",
    "    # Количество пустых значений \n",
    "    temp_null_count = data[data[col].isnull()].shape[0]\n",
    "    dt = str(data[col].dtype)\n",
    "    if temp_null_count>0 and (dt=='object'):\n",
    "        cat_cols.append(col)\n",
    "        temp_perc = round((temp_null_count / total_count) * 100.0, 2)\n",
    "        print('Колонка {}. Тип данных {}. Количество пустых значений {}, {}%.'.format(col, dt, temp_null_count, temp_perc))"
   ]
  },
  {
   "cell_type": "code",
   "execution_count": 29,
   "metadata": {},
   "outputs": [
    {
     "data": {
      "text/html": [
       "<div>\n",
       "<style scoped>\n",
       "    .dataframe tbody tr th:only-of-type {\n",
       "        vertical-align: middle;\n",
       "    }\n",
       "\n",
       "    .dataframe tbody tr th {\n",
       "        vertical-align: top;\n",
       "    }\n",
       "\n",
       "    .dataframe thead th {\n",
       "        text-align: right;\n",
       "    }\n",
       "</style>\n",
       "<table border=\"1\" class=\"dataframe\">\n",
       "  <thead>\n",
       "    <tr style=\"text-align: right;\">\n",
       "      <th></th>\n",
       "      <th>Regions</th>\n",
       "    </tr>\n",
       "  </thead>\n",
       "  <tbody>\n",
       "    <tr>\n",
       "      <th>0</th>\n",
       "      <td>NaN</td>\n",
       "    </tr>\n",
       "    <tr>\n",
       "      <th>1</th>\n",
       "      <td>Asia</td>\n",
       "    </tr>\n",
       "    <tr>\n",
       "      <th>2</th>\n",
       "      <td>Asia</td>\n",
       "    </tr>\n",
       "    <tr>\n",
       "      <th>3</th>\n",
       "      <td>Asia</td>\n",
       "    </tr>\n",
       "    <tr>\n",
       "      <th>4</th>\n",
       "      <td>Asia</td>\n",
       "    </tr>\n",
       "  </tbody>\n",
       "</table>\n",
       "</div>"
      ],
      "text/plain": [
       "  Regions\n",
       "0     NaN\n",
       "1    Asia\n",
       "2    Asia\n",
       "3    Asia\n",
       "4    Asia"
      ]
     },
     "execution_count": 29,
     "metadata": {},
     "output_type": "execute_result"
    }
   ],
   "source": [
    "cat_temp_data = data[['Regions']]\n",
    "cat_temp_data.head()"
   ]
  },
  {
   "cell_type": "code",
   "execution_count": 30,
   "metadata": {},
   "outputs": [
    {
     "data": {
      "text/plain": [
       "array([nan, 'Asia', 'Africa', 'Europe', 'Latin America & Caribbean',\n",
       "       'Northern America', 'Oceania'], dtype=object)"
      ]
     },
     "execution_count": 30,
     "metadata": {},
     "output_type": "execute_result"
    }
   ],
   "source": [
    "cat_temp_data['Regions'].unique()"
   ]
  },
  {
   "cell_type": "code",
   "execution_count": 31,
   "metadata": {},
   "outputs": [
    {
     "data": {
      "text/plain": [
       "(11, 1)"
      ]
     },
     "execution_count": 31,
     "metadata": {},
     "output_type": "execute_result"
    }
   ],
   "source": [
    "cat_temp_data[cat_temp_data['Regions'].isnull()].shape"
   ]
  },
  {
   "cell_type": "code",
   "execution_count": 32,
   "metadata": {},
   "outputs": [
    {
     "data": {
      "text/plain": [
       "array([['Africa'],\n",
       "       ['Asia'],\n",
       "       ['Asia'],\n",
       "       ['Asia'],\n",
       "       ['Asia'],\n",
       "       ['Asia'],\n",
       "       ['Asia'],\n",
       "       ['Asia'],\n",
       "       ['Asia'],\n",
       "       ['Asia'],\n",
       "       ['Asia'],\n",
       "       ['Asia'],\n",
       "       ['Asia'],\n",
       "       ['Asia'],\n",
       "       ['Asia'],\n",
       "       ['Asia'],\n",
       "       ['Asia'],\n",
       "       ['Asia'],\n",
       "       ['Asia'],\n",
       "       ['Asia'],\n",
       "       ['Asia'],\n",
       "       ['Asia'],\n",
       "       ['Asia'],\n",
       "       ['Asia'],\n",
       "       ['Asia'],\n",
       "       ['Asia'],\n",
       "       ['Asia'],\n",
       "       ['Asia'],\n",
       "       ['Asia'],\n",
       "       ['Asia'],\n",
       "       ['Asia'],\n",
       "       ['Asia'],\n",
       "       ['Asia'],\n",
       "       ['Asia'],\n",
       "       ['Asia'],\n",
       "       ['Asia'],\n",
       "       ['Asia'],\n",
       "       ['Asia'],\n",
       "       ['Asia'],\n",
       "       ['Asia'],\n",
       "       ['Asia'],\n",
       "       ['Asia'],\n",
       "       ['Asia'],\n",
       "       ['Asia'],\n",
       "       ['Asia'],\n",
       "       ['Asia'],\n",
       "       ['Asia'],\n",
       "       ['Asia'],\n",
       "       ['Asia'],\n",
       "       ['Asia'],\n",
       "       ['Asia'],\n",
       "       ['Africa'],\n",
       "       ['Africa'],\n",
       "       ['Africa'],\n",
       "       ['Africa'],\n",
       "       ['Africa'],\n",
       "       ['Africa'],\n",
       "       ['Africa'],\n",
       "       ['Africa'],\n",
       "       ['Africa'],\n",
       "       ['Africa'],\n",
       "       ['Africa'],\n",
       "       ['Africa'],\n",
       "       ['Africa'],\n",
       "       ['Africa'],\n",
       "       ['Africa'],\n",
       "       ['Africa'],\n",
       "       ['Africa'],\n",
       "       ['Africa'],\n",
       "       ['Africa'],\n",
       "       ['Africa'],\n",
       "       ['Africa'],\n",
       "       ['Africa'],\n",
       "       ['Africa'],\n",
       "       ['Africa'],\n",
       "       ['Africa'],\n",
       "       ['Africa'],\n",
       "       ['Africa'],\n",
       "       ['Africa'],\n",
       "       ['Africa'],\n",
       "       ['Africa'],\n",
       "       ['Africa'],\n",
       "       ['Africa'],\n",
       "       ['Africa'],\n",
       "       ['Africa'],\n",
       "       ['Africa'],\n",
       "       ['Africa'],\n",
       "       ['Africa'],\n",
       "       ['Africa'],\n",
       "       ['Africa'],\n",
       "       ['Africa'],\n",
       "       ['Africa'],\n",
       "       ['Africa'],\n",
       "       ['Africa'],\n",
       "       ['Africa'],\n",
       "       ['Africa'],\n",
       "       ['Africa'],\n",
       "       ['Africa'],\n",
       "       ['Africa'],\n",
       "       ['Africa'],\n",
       "       ['Africa'],\n",
       "       ['Africa'],\n",
       "       ['Africa'],\n",
       "       ['Africa'],\n",
       "       ['Africa'],\n",
       "       ['Africa'],\n",
       "       ['Africa'],\n",
       "       ['Africa'],\n",
       "       ['Africa'],\n",
       "       ['Europe'],\n",
       "       ['Europe'],\n",
       "       ['Europe'],\n",
       "       ['Europe'],\n",
       "       ['Europe'],\n",
       "       ['Europe'],\n",
       "       ['Europe'],\n",
       "       ['Europe'],\n",
       "       ['Europe'],\n",
       "       ['Europe'],\n",
       "       ['Europe'],\n",
       "       ['Europe'],\n",
       "       ['Europe'],\n",
       "       ['Africa'],\n",
       "       ['Europe'],\n",
       "       ['Europe'],\n",
       "       ['Europe'],\n",
       "       ['Europe'],\n",
       "       ['Europe'],\n",
       "       ['Europe'],\n",
       "       ['Europe'],\n",
       "       ['Europe'],\n",
       "       ['Europe'],\n",
       "       ['Europe'],\n",
       "       ['Europe'],\n",
       "       ['Europe'],\n",
       "       ['Europe'],\n",
       "       ['Europe'],\n",
       "       ['Europe'],\n",
       "       ['Europe'],\n",
       "       ['Europe'],\n",
       "       ['Europe'],\n",
       "       ['Europe'],\n",
       "       ['Europe'],\n",
       "       ['Europe'],\n",
       "       ['Europe'],\n",
       "       ['Europe'],\n",
       "       ['Europe'],\n",
       "       ['Europe'],\n",
       "       ['Europe'],\n",
       "       ['Europe'],\n",
       "       ['Europe'],\n",
       "       ['Europe'],\n",
       "       ['Africa'],\n",
       "       ['Europe'],\n",
       "       ['Europe'],\n",
       "       ['Europe'],\n",
       "       ['Europe'],\n",
       "       ['Latin America & Caribbean'],\n",
       "       ['Latin America & Caribbean'],\n",
       "       ['Latin America & Caribbean'],\n",
       "       ['Latin America & Caribbean'],\n",
       "       ['Latin America & Caribbean'],\n",
       "       ['Latin America & Caribbean'],\n",
       "       ['Latin America & Caribbean'],\n",
       "       ['Latin America & Caribbean'],\n",
       "       ['Latin America & Caribbean'],\n",
       "       ['Latin America & Caribbean'],\n",
       "       ['Latin America & Caribbean'],\n",
       "       ['Latin America & Caribbean'],\n",
       "       ['Latin America & Caribbean'],\n",
       "       ['Latin America & Caribbean'],\n",
       "       ['Latin America & Caribbean'],\n",
       "       ['Latin America & Caribbean'],\n",
       "       ['Latin America & Caribbean'],\n",
       "       ['Latin America & Caribbean'],\n",
       "       ['Latin America & Caribbean'],\n",
       "       ['Latin America & Caribbean'],\n",
       "       ['Latin America & Caribbean'],\n",
       "       ['Africa'],\n",
       "       ['Latin America & Caribbean'],\n",
       "       ['Latin America & Caribbean'],\n",
       "       ['Latin America & Caribbean'],\n",
       "       ['Latin America & Caribbean'],\n",
       "       ['Latin America & Caribbean'],\n",
       "       ['Latin America & Caribbean'],\n",
       "       ['Latin America & Caribbean'],\n",
       "       ['Latin America & Caribbean'],\n",
       "       ['Latin America & Caribbean'],\n",
       "       ['Latin America & Caribbean'],\n",
       "       ['Latin America & Caribbean'],\n",
       "       ['Latin America & Caribbean'],\n",
       "       ['Latin America & Caribbean'],\n",
       "       ['Latin America & Caribbean'],\n",
       "       ['Latin America & Caribbean'],\n",
       "       ['Latin America & Caribbean'],\n",
       "       ['Latin America & Caribbean'],\n",
       "       ['Latin America & Caribbean'],\n",
       "       ['Latin America & Caribbean'],\n",
       "       ['Latin America & Caribbean'],\n",
       "       ['Latin America & Caribbean'],\n",
       "       ['Latin America & Caribbean'],\n",
       "       ['Latin America & Caribbean'],\n",
       "       ['Latin America & Caribbean'],\n",
       "       ['Latin America & Caribbean'],\n",
       "       ['Africa'],\n",
       "       ['Latin America & Caribbean'],\n",
       "       ['Africa'],\n",
       "       ['Northern America'],\n",
       "       ['Africa'],\n",
       "       ['Northern America'],\n",
       "       ['Northern America'],\n",
       "       ['Oceania'],\n",
       "       ['Oceania'],\n",
       "       ['Oceania'],\n",
       "       ['Oceania'],\n",
       "       ['Oceania'],\n",
       "       ['Oceania'],\n",
       "       ['Oceania'],\n",
       "       ['Oceania'],\n",
       "       ['Oceania'],\n",
       "       ['Oceania'],\n",
       "       ['Oceania'],\n",
       "       ['Oceania'],\n",
       "       ['Oceania'],\n",
       "       ['Oceania'],\n",
       "       ['Oceania'],\n",
       "       ['Oceania'],\n",
       "       ['Africa'],\n",
       "       ['Oceania'],\n",
       "       ['Oceania'],\n",
       "       ['Africa'],\n",
       "       ['Oceania'],\n",
       "       ['Oceania'],\n",
       "       ['Africa']], dtype=object)"
      ]
     },
     "execution_count": 32,
     "metadata": {},
     "output_type": "execute_result"
    }
   ],
   "source": [
    "# Импьютация наиболее частыми значениями\n",
    "imp2 = SimpleImputer(missing_values=np.nan, strategy='most_frequent')\n",
    "data_imp2 = imp2.fit_transform(cat_temp_data)\n",
    "data_imp2"
   ]
  },
  {
   "cell_type": "code",
   "execution_count": 33,
   "metadata": {},
   "outputs": [
    {
     "data": {
      "text/plain": [
       "array(['Africa', 'Asia', 'Europe', 'Latin America & Caribbean',\n",
       "       'Northern America', 'Oceania'], dtype=object)"
      ]
     },
     "execution_count": 33,
     "metadata": {},
     "output_type": "execute_result"
    }
   ],
   "source": [
    "# Пустые значения отсутствуют\n",
    "np.unique(data_imp2)"
   ]
  },
  {
   "cell_type": "code",
   "execution_count": 34,
   "metadata": {},
   "outputs": [
    {
     "data": {
      "text/plain": [
       "array([['NA'],\n",
       "       ['Asia'],\n",
       "       ['Asia'],\n",
       "       ['Asia'],\n",
       "       ['Asia'],\n",
       "       ['Asia'],\n",
       "       ['Asia'],\n",
       "       ['Asia'],\n",
       "       ['Asia'],\n",
       "       ['Asia'],\n",
       "       ['Asia'],\n",
       "       ['Asia'],\n",
       "       ['Asia'],\n",
       "       ['Asia'],\n",
       "       ['Asia'],\n",
       "       ['Asia'],\n",
       "       ['Asia'],\n",
       "       ['Asia'],\n",
       "       ['Asia'],\n",
       "       ['Asia'],\n",
       "       ['Asia'],\n",
       "       ['Asia'],\n",
       "       ['Asia'],\n",
       "       ['Asia'],\n",
       "       ['Asia'],\n",
       "       ['Asia'],\n",
       "       ['Asia'],\n",
       "       ['Asia'],\n",
       "       ['Asia'],\n",
       "       ['Asia'],\n",
       "       ['Asia'],\n",
       "       ['Asia'],\n",
       "       ['Asia'],\n",
       "       ['Asia'],\n",
       "       ['Asia'],\n",
       "       ['Asia'],\n",
       "       ['Asia'],\n",
       "       ['Asia'],\n",
       "       ['Asia'],\n",
       "       ['Asia'],\n",
       "       ['Asia'],\n",
       "       ['Asia'],\n",
       "       ['Asia'],\n",
       "       ['Asia'],\n",
       "       ['Asia'],\n",
       "       ['Asia'],\n",
       "       ['Asia'],\n",
       "       ['Asia'],\n",
       "       ['Asia'],\n",
       "       ['Asia'],\n",
       "       ['Asia'],\n",
       "       ['NA'],\n",
       "       ['Africa'],\n",
       "       ['Africa'],\n",
       "       ['Africa'],\n",
       "       ['Africa'],\n",
       "       ['Africa'],\n",
       "       ['Africa'],\n",
       "       ['Africa'],\n",
       "       ['Africa'],\n",
       "       ['Africa'],\n",
       "       ['Africa'],\n",
       "       ['Africa'],\n",
       "       ['Africa'],\n",
       "       ['Africa'],\n",
       "       ['Africa'],\n",
       "       ['Africa'],\n",
       "       ['Africa'],\n",
       "       ['Africa'],\n",
       "       ['Africa'],\n",
       "       ['Africa'],\n",
       "       ['Africa'],\n",
       "       ['Africa'],\n",
       "       ['Africa'],\n",
       "       ['Africa'],\n",
       "       ['Africa'],\n",
       "       ['Africa'],\n",
       "       ['Africa'],\n",
       "       ['Africa'],\n",
       "       ['Africa'],\n",
       "       ['Africa'],\n",
       "       ['Africa'],\n",
       "       ['Africa'],\n",
       "       ['Africa'],\n",
       "       ['Africa'],\n",
       "       ['Africa'],\n",
       "       ['Africa'],\n",
       "       ['Africa'],\n",
       "       ['Africa'],\n",
       "       ['Africa'],\n",
       "       ['Africa'],\n",
       "       ['Africa'],\n",
       "       ['Africa'],\n",
       "       ['Africa'],\n",
       "       ['Africa'],\n",
       "       ['Africa'],\n",
       "       ['Africa'],\n",
       "       ['Africa'],\n",
       "       ['Africa'],\n",
       "       ['Africa'],\n",
       "       ['Africa'],\n",
       "       ['Africa'],\n",
       "       ['Africa'],\n",
       "       ['Africa'],\n",
       "       ['Africa'],\n",
       "       ['Africa'],\n",
       "       ['Africa'],\n",
       "       ['Africa'],\n",
       "       ['Africa'],\n",
       "       ['Europe'],\n",
       "       ['Europe'],\n",
       "       ['Europe'],\n",
       "       ['Europe'],\n",
       "       ['Europe'],\n",
       "       ['Europe'],\n",
       "       ['Europe'],\n",
       "       ['Europe'],\n",
       "       ['Europe'],\n",
       "       ['Europe'],\n",
       "       ['Europe'],\n",
       "       ['Europe'],\n",
       "       ['Europe'],\n",
       "       ['NA'],\n",
       "       ['Europe'],\n",
       "       ['Europe'],\n",
       "       ['Europe'],\n",
       "       ['Europe'],\n",
       "       ['Europe'],\n",
       "       ['Europe'],\n",
       "       ['Europe'],\n",
       "       ['Europe'],\n",
       "       ['Europe'],\n",
       "       ['Europe'],\n",
       "       ['Europe'],\n",
       "       ['Europe'],\n",
       "       ['Europe'],\n",
       "       ['Europe'],\n",
       "       ['Europe'],\n",
       "       ['Europe'],\n",
       "       ['Europe'],\n",
       "       ['Europe'],\n",
       "       ['Europe'],\n",
       "       ['Europe'],\n",
       "       ['Europe'],\n",
       "       ['Europe'],\n",
       "       ['Europe'],\n",
       "       ['Europe'],\n",
       "       ['Europe'],\n",
       "       ['Europe'],\n",
       "       ['Europe'],\n",
       "       ['Europe'],\n",
       "       ['Europe'],\n",
       "       ['NA'],\n",
       "       ['Europe'],\n",
       "       ['Europe'],\n",
       "       ['Europe'],\n",
       "       ['Europe'],\n",
       "       ['Latin America & Caribbean'],\n",
       "       ['Latin America & Caribbean'],\n",
       "       ['Latin America & Caribbean'],\n",
       "       ['Latin America & Caribbean'],\n",
       "       ['Latin America & Caribbean'],\n",
       "       ['Latin America & Caribbean'],\n",
       "       ['Latin America & Caribbean'],\n",
       "       ['Latin America & Caribbean'],\n",
       "       ['Latin America & Caribbean'],\n",
       "       ['Latin America & Caribbean'],\n",
       "       ['Latin America & Caribbean'],\n",
       "       ['Latin America & Caribbean'],\n",
       "       ['Latin America & Caribbean'],\n",
       "       ['Latin America & Caribbean'],\n",
       "       ['Latin America & Caribbean'],\n",
       "       ['Latin America & Caribbean'],\n",
       "       ['Latin America & Caribbean'],\n",
       "       ['Latin America & Caribbean'],\n",
       "       ['Latin America & Caribbean'],\n",
       "       ['Latin America & Caribbean'],\n",
       "       ['Latin America & Caribbean'],\n",
       "       ['NA'],\n",
       "       ['Latin America & Caribbean'],\n",
       "       ['Latin America & Caribbean'],\n",
       "       ['Latin America & Caribbean'],\n",
       "       ['Latin America & Caribbean'],\n",
       "       ['Latin America & Caribbean'],\n",
       "       ['Latin America & Caribbean'],\n",
       "       ['Latin America & Caribbean'],\n",
       "       ['Latin America & Caribbean'],\n",
       "       ['Latin America & Caribbean'],\n",
       "       ['Latin America & Caribbean'],\n",
       "       ['Latin America & Caribbean'],\n",
       "       ['Latin America & Caribbean'],\n",
       "       ['Latin America & Caribbean'],\n",
       "       ['Latin America & Caribbean'],\n",
       "       ['Latin America & Caribbean'],\n",
       "       ['Latin America & Caribbean'],\n",
       "       ['Latin America & Caribbean'],\n",
       "       ['Latin America & Caribbean'],\n",
       "       ['Latin America & Caribbean'],\n",
       "       ['Latin America & Caribbean'],\n",
       "       ['Latin America & Caribbean'],\n",
       "       ['Latin America & Caribbean'],\n",
       "       ['Latin America & Caribbean'],\n",
       "       ['Latin America & Caribbean'],\n",
       "       ['Latin America & Caribbean'],\n",
       "       ['NA'],\n",
       "       ['Latin America & Caribbean'],\n",
       "       ['NA'],\n",
       "       ['Northern America'],\n",
       "       ['NA'],\n",
       "       ['Northern America'],\n",
       "       ['Northern America'],\n",
       "       ['Oceania'],\n",
       "       ['Oceania'],\n",
       "       ['Oceania'],\n",
       "       ['Oceania'],\n",
       "       ['Oceania'],\n",
       "       ['Oceania'],\n",
       "       ['Oceania'],\n",
       "       ['Oceania'],\n",
       "       ['Oceania'],\n",
       "       ['Oceania'],\n",
       "       ['Oceania'],\n",
       "       ['Oceania'],\n",
       "       ['Oceania'],\n",
       "       ['Oceania'],\n",
       "       ['Oceania'],\n",
       "       ['Oceania'],\n",
       "       ['NA'],\n",
       "       ['Oceania'],\n",
       "       ['Oceania'],\n",
       "       ['NA'],\n",
       "       ['Oceania'],\n",
       "       ['Oceania'],\n",
       "       ['NA']], dtype=object)"
      ]
     },
     "execution_count": 34,
     "metadata": {},
     "output_type": "execute_result"
    }
   ],
   "source": [
    "# Импьютация константой\n",
    "imp3 = SimpleImputer(missing_values=np.nan, strategy='constant', fill_value='NA')\n",
    "data_imp3 = imp3.fit_transform(cat_temp_data)\n",
    "data_imp3"
   ]
  },
  {
   "cell_type": "code",
   "execution_count": 35,
   "metadata": {},
   "outputs": [
    {
     "data": {
      "text/plain": [
       "array(['Africa', 'Asia', 'Europe', 'Latin America & Caribbean', 'NA',\n",
       "       'Northern America', 'Oceania'], dtype=object)"
      ]
     },
     "execution_count": 35,
     "metadata": {},
     "output_type": "execute_result"
    }
   ],
   "source": [
    "np.unique(data_imp3)"
   ]
  },
  {
   "cell_type": "code",
   "execution_count": 36,
   "metadata": {},
   "outputs": [
    {
     "data": {
      "text/plain": [
       "11"
      ]
     },
     "execution_count": 36,
     "metadata": {},
     "output_type": "execute_result"
    }
   ],
   "source": [
    "data_imp3[data_imp3=='NA'].size"
   ]
  },
  {
   "cell_type": "markdown",
   "metadata": {},
   "source": [
    "# Преобразование категориальных признаков в числовые"
   ]
  },
  {
   "cell_type": "code",
   "execution_count": 37,
   "metadata": {},
   "outputs": [
    {
     "data": {
      "text/html": [
       "<div>\n",
       "<style scoped>\n",
       "    .dataframe tbody tr th:only-of-type {\n",
       "        vertical-align: middle;\n",
       "    }\n",
       "\n",
       "    .dataframe tbody tr th {\n",
       "        vertical-align: top;\n",
       "    }\n",
       "\n",
       "    .dataframe thead th {\n",
       "        text-align: right;\n",
       "    }\n",
       "</style>\n",
       "<table border=\"1\" class=\"dataframe\">\n",
       "  <thead>\n",
       "    <tr style=\"text-align: right;\">\n",
       "      <th></th>\n",
       "      <th>c1</th>\n",
       "    </tr>\n",
       "  </thead>\n",
       "  <tbody>\n",
       "    <tr>\n",
       "      <th>0</th>\n",
       "      <td>Africa</td>\n",
       "    </tr>\n",
       "    <tr>\n",
       "      <th>1</th>\n",
       "      <td>Asia</td>\n",
       "    </tr>\n",
       "    <tr>\n",
       "      <th>2</th>\n",
       "      <td>Asia</td>\n",
       "    </tr>\n",
       "    <tr>\n",
       "      <th>3</th>\n",
       "      <td>Asia</td>\n",
       "    </tr>\n",
       "    <tr>\n",
       "      <th>4</th>\n",
       "      <td>Asia</td>\n",
       "    </tr>\n",
       "    <tr>\n",
       "      <th>...</th>\n",
       "      <td>...</td>\n",
       "    </tr>\n",
       "    <tr>\n",
       "      <th>229</th>\n",
       "      <td>Oceania</td>\n",
       "    </tr>\n",
       "    <tr>\n",
       "      <th>230</th>\n",
       "      <td>Africa</td>\n",
       "    </tr>\n",
       "    <tr>\n",
       "      <th>231</th>\n",
       "      <td>Oceania</td>\n",
       "    </tr>\n",
       "    <tr>\n",
       "      <th>232</th>\n",
       "      <td>Oceania</td>\n",
       "    </tr>\n",
       "    <tr>\n",
       "      <th>233</th>\n",
       "      <td>Africa</td>\n",
       "    </tr>\n",
       "  </tbody>\n",
       "</table>\n",
       "<p>234 rows × 1 columns</p>\n",
       "</div>"
      ],
      "text/plain": [
       "          c1\n",
       "0     Africa\n",
       "1       Asia\n",
       "2       Asia\n",
       "3       Asia\n",
       "4       Asia\n",
       "..       ...\n",
       "229  Oceania\n",
       "230   Africa\n",
       "231  Oceania\n",
       "232  Oceania\n",
       "233   Africa\n",
       "\n",
       "[234 rows x 1 columns]"
      ]
     },
     "execution_count": 37,
     "metadata": {},
     "output_type": "execute_result"
    }
   ],
   "source": [
    "cat_enc = pd.DataFrame({'c1':data_imp2.T[0]})\n",
    "cat_enc"
   ]
  },
  {
   "cell_type": "markdown",
   "metadata": {},
   "source": [
    "## Кодирование категорий целочисленными значениями (label encoding)"
   ]
  },
  {
   "cell_type": "code",
   "execution_count": 38,
   "metadata": {},
   "outputs": [],
   "source": [
    "from sklearn.preprocessing import LabelEncoder"
   ]
  },
  {
   "cell_type": "code",
   "execution_count": 39,
   "metadata": {},
   "outputs": [
    {
     "data": {
      "text/plain": [
       "array(['Africa', 'Asia', 'Europe', 'Latin America & Caribbean',\n",
       "       'Northern America', 'Oceania'], dtype=object)"
      ]
     },
     "execution_count": 39,
     "metadata": {},
     "output_type": "execute_result"
    }
   ],
   "source": [
    "cat_enc['c1'].unique()"
   ]
  },
  {
   "cell_type": "code",
   "execution_count": 40,
   "metadata": {},
   "outputs": [],
   "source": [
    "le = LabelEncoder()\n",
    "cat_enc_le = le.fit_transform(cat_enc['c1'])"
   ]
  },
  {
   "cell_type": "code",
   "execution_count": 41,
   "metadata": {},
   "outputs": [
    {
     "data": {
      "text/plain": [
       "array(['Africa', 'Asia', 'Europe', 'Latin America & Caribbean',\n",
       "       'Northern America', 'Oceania'], dtype=object)"
      ]
     },
     "execution_count": 41,
     "metadata": {},
     "output_type": "execute_result"
    }
   ],
   "source": [
    "# Наименования категорий в соответствии с порядковыми номерами\n",
    "\n",
    "# Свойство называется classes, потому что предполагается что мы решаем \n",
    "# задачу классификации и каждое значение категории соответствует \n",
    "# какому-либо классу целевого признака\n",
    "\n",
    "le.classes_"
   ]
  },
  {
   "cell_type": "code",
   "execution_count": 42,
   "metadata": {},
   "outputs": [
    {
     "data": {
      "text/plain": [
       "array([0, 1, 1, 1, 1, 1, 1, 1, 1, 1, 1, 1, 1, 1, 1, 1, 1, 1, 1, 1, 1, 1,\n",
       "       1, 1, 1, 1, 1, 1, 1, 1, 1, 1, 1, 1, 1, 1, 1, 1, 1, 1, 1, 1, 1, 1,\n",
       "       1, 1, 1, 1, 1, 1, 1, 0, 0, 0, 0, 0, 0, 0, 0, 0, 0, 0, 0, 0, 0, 0,\n",
       "       0, 0, 0, 0, 0, 0, 0, 0, 0, 0, 0, 0, 0, 0, 0, 0, 0, 0, 0, 0, 0, 0,\n",
       "       0, 0, 0, 0, 0, 0, 0, 0, 0, 0, 0, 0, 0, 0, 0, 0, 0, 0, 0, 0, 0, 2,\n",
       "       2, 2, 2, 2, 2, 2, 2, 2, 2, 2, 2, 2, 0, 2, 2, 2, 2, 2, 2, 2, 2, 2,\n",
       "       2, 2, 2, 2, 2, 2, 2, 2, 2, 2, 2, 2, 2, 2, 2, 2, 2, 2, 2, 2, 0, 2,\n",
       "       2, 2, 2, 3, 3, 3, 3, 3, 3, 3, 3, 3, 3, 3, 3, 3, 3, 3, 3, 3, 3, 3,\n",
       "       3, 3, 0, 3, 3, 3, 3, 3, 3, 3, 3, 3, 3, 3, 3, 3, 3, 3, 3, 3, 3, 3,\n",
       "       3, 3, 3, 3, 3, 3, 0, 3, 0, 4, 0, 4, 4, 5, 5, 5, 5, 5, 5, 5, 5, 5,\n",
       "       5, 5, 5, 5, 5, 5, 5, 0, 5, 5, 0, 5, 5, 0])"
      ]
     },
     "execution_count": 42,
     "metadata": {},
     "output_type": "execute_result"
    }
   ],
   "source": [
    "cat_enc_le"
   ]
  },
  {
   "cell_type": "code",
   "execution_count": 43,
   "metadata": {},
   "outputs": [
    {
     "data": {
      "text/plain": [
       "array([0, 1, 2, 3, 4, 5])"
      ]
     },
     "execution_count": 43,
     "metadata": {},
     "output_type": "execute_result"
    }
   ],
   "source": [
    "np.unique(cat_enc_le)"
   ]
  },
  {
   "cell_type": "code",
   "execution_count": 44,
   "metadata": {},
   "outputs": [
    {
     "data": {
      "text/plain": [
       "array(['Africa', 'Asia', 'Europe', 'Latin America & Caribbean'],\n",
       "      dtype=object)"
      ]
     },
     "execution_count": 44,
     "metadata": {},
     "output_type": "execute_result"
    }
   ],
   "source": [
    "# В этом примере видно, что перед кодированием \n",
    "# уникальные значения признака сортируются в лексикографиеском порядке\n",
    "le.inverse_transform([0, 1, 2, 3])"
   ]
  },
  {
   "cell_type": "markdown",
   "metadata": {},
   "source": [
    "## Кодирование категорий наборами бинарных значений"
   ]
  },
  {
   "cell_type": "code",
   "execution_count": 45,
   "metadata": {},
   "outputs": [],
   "source": [
    "from sklearn.preprocessing import OneHotEncoder"
   ]
  },
  {
   "cell_type": "code",
   "execution_count": 46,
   "metadata": {},
   "outputs": [],
   "source": [
    "ohe = OneHotEncoder()\n",
    "cat_enc_ohe = ohe.fit_transform(cat_enc[['c1']])"
   ]
  },
  {
   "cell_type": "code",
   "execution_count": 47,
   "metadata": {},
   "outputs": [
    {
     "data": {
      "text/plain": [
       "(234, 1)"
      ]
     },
     "execution_count": 47,
     "metadata": {},
     "output_type": "execute_result"
    }
   ],
   "source": [
    "cat_enc.shape"
   ]
  },
  {
   "cell_type": "code",
   "execution_count": 48,
   "metadata": {},
   "outputs": [
    {
     "data": {
      "text/plain": [
       "(234, 6)"
      ]
     },
     "execution_count": 48,
     "metadata": {},
     "output_type": "execute_result"
    }
   ],
   "source": [
    "cat_enc_ohe.shape"
   ]
  },
  {
   "cell_type": "code",
   "execution_count": 49,
   "metadata": {},
   "outputs": [
    {
     "data": {
      "text/plain": [
       "<234x6 sparse matrix of type '<class 'numpy.float64'>'\n",
       "\twith 234 stored elements in Compressed Sparse Row format>"
      ]
     },
     "execution_count": 49,
     "metadata": {},
     "output_type": "execute_result"
    }
   ],
   "source": [
    "cat_enc_ohe"
   ]
  },
  {
   "cell_type": "code",
   "execution_count": 50,
   "metadata": {},
   "outputs": [
    {
     "data": {
      "text/plain": [
       "matrix([[1., 0., 0., 0., 0., 0.],\n",
       "        [0., 1., 0., 0., 0., 0.],\n",
       "        [0., 1., 0., 0., 0., 0.],\n",
       "        [0., 1., 0., 0., 0., 0.],\n",
       "        [0., 1., 0., 0., 0., 0.],\n",
       "        [0., 1., 0., 0., 0., 0.],\n",
       "        [0., 1., 0., 0., 0., 0.],\n",
       "        [0., 1., 0., 0., 0., 0.],\n",
       "        [0., 1., 0., 0., 0., 0.],\n",
       "        [0., 1., 0., 0., 0., 0.]])"
      ]
     },
     "execution_count": 50,
     "metadata": {},
     "output_type": "execute_result"
    }
   ],
   "source": [
    "cat_enc_ohe.todense()[0:10]"
   ]
  },
  {
   "cell_type": "code",
   "execution_count": 51,
   "metadata": {},
   "outputs": [
    {
     "data": {
      "text/html": [
       "<div>\n",
       "<style scoped>\n",
       "    .dataframe tbody tr th:only-of-type {\n",
       "        vertical-align: middle;\n",
       "    }\n",
       "\n",
       "    .dataframe tbody tr th {\n",
       "        vertical-align: top;\n",
       "    }\n",
       "\n",
       "    .dataframe thead th {\n",
       "        text-align: right;\n",
       "    }\n",
       "</style>\n",
       "<table border=\"1\" class=\"dataframe\">\n",
       "  <thead>\n",
       "    <tr style=\"text-align: right;\">\n",
       "      <th></th>\n",
       "      <th>c1</th>\n",
       "    </tr>\n",
       "  </thead>\n",
       "  <tbody>\n",
       "    <tr>\n",
       "      <th>0</th>\n",
       "      <td>Africa</td>\n",
       "    </tr>\n",
       "    <tr>\n",
       "      <th>1</th>\n",
       "      <td>Asia</td>\n",
       "    </tr>\n",
       "    <tr>\n",
       "      <th>2</th>\n",
       "      <td>Asia</td>\n",
       "    </tr>\n",
       "    <tr>\n",
       "      <th>3</th>\n",
       "      <td>Asia</td>\n",
       "    </tr>\n",
       "    <tr>\n",
       "      <th>4</th>\n",
       "      <td>Asia</td>\n",
       "    </tr>\n",
       "    <tr>\n",
       "      <th>5</th>\n",
       "      <td>Asia</td>\n",
       "    </tr>\n",
       "    <tr>\n",
       "      <th>6</th>\n",
       "      <td>Asia</td>\n",
       "    </tr>\n",
       "    <tr>\n",
       "      <th>7</th>\n",
       "      <td>Asia</td>\n",
       "    </tr>\n",
       "    <tr>\n",
       "      <th>8</th>\n",
       "      <td>Asia</td>\n",
       "    </tr>\n",
       "    <tr>\n",
       "      <th>9</th>\n",
       "      <td>Asia</td>\n",
       "    </tr>\n",
       "  </tbody>\n",
       "</table>\n",
       "</div>"
      ],
      "text/plain": [
       "       c1\n",
       "0  Africa\n",
       "1    Asia\n",
       "2    Asia\n",
       "3    Asia\n",
       "4    Asia\n",
       "5    Asia\n",
       "6    Asia\n",
       "7    Asia\n",
       "8    Asia\n",
       "9    Asia"
      ]
     },
     "execution_count": 51,
     "metadata": {},
     "output_type": "execute_result"
    }
   ],
   "source": [
    "cat_enc.head(10)"
   ]
  },
  {
   "cell_type": "code",
   "execution_count": 52,
   "metadata": {},
   "outputs": [
    {
     "data": {
      "text/html": [
       "<div>\n",
       "<style scoped>\n",
       "    .dataframe tbody tr th:only-of-type {\n",
       "        vertical-align: middle;\n",
       "    }\n",
       "\n",
       "    .dataframe tbody tr th {\n",
       "        vertical-align: top;\n",
       "    }\n",
       "\n",
       "    .dataframe thead th {\n",
       "        text-align: right;\n",
       "    }\n",
       "</style>\n",
       "<table border=\"1\" class=\"dataframe\">\n",
       "  <thead>\n",
       "    <tr style=\"text-align: right;\">\n",
       "      <th></th>\n",
       "      <th>c1_Africa</th>\n",
       "      <th>c1_Asia</th>\n",
       "      <th>c1_Europe</th>\n",
       "      <th>c1_Latin America &amp; Caribbean</th>\n",
       "      <th>c1_Northern America</th>\n",
       "      <th>c1_Oceania</th>\n",
       "    </tr>\n",
       "  </thead>\n",
       "  <tbody>\n",
       "    <tr>\n",
       "      <th>0</th>\n",
       "      <td>1</td>\n",
       "      <td>0</td>\n",
       "      <td>0</td>\n",
       "      <td>0</td>\n",
       "      <td>0</td>\n",
       "      <td>0</td>\n",
       "    </tr>\n",
       "    <tr>\n",
       "      <th>1</th>\n",
       "      <td>0</td>\n",
       "      <td>1</td>\n",
       "      <td>0</td>\n",
       "      <td>0</td>\n",
       "      <td>0</td>\n",
       "      <td>0</td>\n",
       "    </tr>\n",
       "    <tr>\n",
       "      <th>2</th>\n",
       "      <td>0</td>\n",
       "      <td>1</td>\n",
       "      <td>0</td>\n",
       "      <td>0</td>\n",
       "      <td>0</td>\n",
       "      <td>0</td>\n",
       "    </tr>\n",
       "    <tr>\n",
       "      <th>3</th>\n",
       "      <td>0</td>\n",
       "      <td>1</td>\n",
       "      <td>0</td>\n",
       "      <td>0</td>\n",
       "      <td>0</td>\n",
       "      <td>0</td>\n",
       "    </tr>\n",
       "    <tr>\n",
       "      <th>4</th>\n",
       "      <td>0</td>\n",
       "      <td>1</td>\n",
       "      <td>0</td>\n",
       "      <td>0</td>\n",
       "      <td>0</td>\n",
       "      <td>0</td>\n",
       "    </tr>\n",
       "  </tbody>\n",
       "</table>\n",
       "</div>"
      ],
      "text/plain": [
       "   c1_Africa  c1_Asia  c1_Europe  c1_Latin America & Caribbean  \\\n",
       "0          1        0          0                             0   \n",
       "1          0        1          0                             0   \n",
       "2          0        1          0                             0   \n",
       "3          0        1          0                             0   \n",
       "4          0        1          0                             0   \n",
       "\n",
       "   c1_Northern America  c1_Oceania  \n",
       "0                    0           0  \n",
       "1                    0           0  \n",
       "2                    0           0  \n",
       "3                    0           0  \n",
       "4                    0           0  "
      ]
     },
     "execution_count": 52,
     "metadata": {},
     "output_type": "execute_result"
    }
   ],
   "source": [
    "pd.get_dummies(cat_enc).head()"
   ]
  },
  {
   "cell_type": "code",
   "execution_count": 53,
   "metadata": {},
   "outputs": [
    {
     "data": {
      "text/html": [
       "<div>\n",
       "<style scoped>\n",
       "    .dataframe tbody tr th:only-of-type {\n",
       "        vertical-align: middle;\n",
       "    }\n",
       "\n",
       "    .dataframe tbody tr th {\n",
       "        vertical-align: top;\n",
       "    }\n",
       "\n",
       "    .dataframe thead th {\n",
       "        text-align: right;\n",
       "    }\n",
       "</style>\n",
       "<table border=\"1\" class=\"dataframe\">\n",
       "  <thead>\n",
       "    <tr style=\"text-align: right;\">\n",
       "      <th></th>\n",
       "      <th>Regions_Africa</th>\n",
       "      <th>Regions_Asia</th>\n",
       "      <th>Regions_Europe</th>\n",
       "      <th>Regions_Latin America &amp; Caribbean</th>\n",
       "      <th>Regions_Northern America</th>\n",
       "      <th>Regions_Oceania</th>\n",
       "      <th>Regions_nan</th>\n",
       "    </tr>\n",
       "  </thead>\n",
       "  <tbody>\n",
       "    <tr>\n",
       "      <th>0</th>\n",
       "      <td>0</td>\n",
       "      <td>0</td>\n",
       "      <td>0</td>\n",
       "      <td>0</td>\n",
       "      <td>0</td>\n",
       "      <td>0</td>\n",
       "      <td>1</td>\n",
       "    </tr>\n",
       "    <tr>\n",
       "      <th>1</th>\n",
       "      <td>0</td>\n",
       "      <td>1</td>\n",
       "      <td>0</td>\n",
       "      <td>0</td>\n",
       "      <td>0</td>\n",
       "      <td>0</td>\n",
       "      <td>0</td>\n",
       "    </tr>\n",
       "    <tr>\n",
       "      <th>2</th>\n",
       "      <td>0</td>\n",
       "      <td>1</td>\n",
       "      <td>0</td>\n",
       "      <td>0</td>\n",
       "      <td>0</td>\n",
       "      <td>0</td>\n",
       "      <td>0</td>\n",
       "    </tr>\n",
       "    <tr>\n",
       "      <th>3</th>\n",
       "      <td>0</td>\n",
       "      <td>1</td>\n",
       "      <td>0</td>\n",
       "      <td>0</td>\n",
       "      <td>0</td>\n",
       "      <td>0</td>\n",
       "      <td>0</td>\n",
       "    </tr>\n",
       "    <tr>\n",
       "      <th>4</th>\n",
       "      <td>0</td>\n",
       "      <td>1</td>\n",
       "      <td>0</td>\n",
       "      <td>0</td>\n",
       "      <td>0</td>\n",
       "      <td>0</td>\n",
       "      <td>0</td>\n",
       "    </tr>\n",
       "  </tbody>\n",
       "</table>\n",
       "</div>"
      ],
      "text/plain": [
       "   Regions_Africa  Regions_Asia  Regions_Europe  \\\n",
       "0               0             0               0   \n",
       "1               0             1               0   \n",
       "2               0             1               0   \n",
       "3               0             1               0   \n",
       "4               0             1               0   \n",
       "\n",
       "   Regions_Latin America & Caribbean  Regions_Northern America  \\\n",
       "0                                  0                         0   \n",
       "1                                  0                         0   \n",
       "2                                  0                         0   \n",
       "3                                  0                         0   \n",
       "4                                  0                         0   \n",
       "\n",
       "   Regions_Oceania  Regions_nan  \n",
       "0                0            1  \n",
       "1                0            0  \n",
       "2                0            0  \n",
       "3                0            0  \n",
       "4                0            0  "
      ]
     },
     "execution_count": 53,
     "metadata": {},
     "output_type": "execute_result"
    }
   ],
   "source": [
    "pd.get_dummies(cat_temp_data, dummy_na=True).head()"
   ]
  },
  {
   "cell_type": "code",
   "execution_count": 54,
   "metadata": {},
   "outputs": [],
   "source": [
    "from sklearn.preprocessing import MinMaxScaler, StandardScaler, Normalizer"
   ]
  },
  {
   "cell_type": "code",
   "execution_count": 55,
   "metadata": {},
   "outputs": [],
   "source": [
    "sc1 = MinMaxScaler()\n",
    "sc1_data = sc1.fit_transform(data[['Migrants']])"
   ]
  },
  {
   "cell_type": "code",
   "execution_count": 56,
   "metadata": {},
   "outputs": [
    {
     "data": {
      "image/png": "[encoded data removed]",
      "text/plain": [
       "<Figure size 640x480 with 1 Axes>"
      ]
     },
     "metadata": {},
     "output_type": "display_data"
    }
   ],
   "source": [
    "plt.hist(data['Migrants'], 50)\n",
    "plt.show()"
   ]
  },
  {
   "cell_type": "code",
   "execution_count": 57,
   "metadata": {},
   "outputs": [
    {
     "data": {
      "image/png": "[encoded data removed]",
      "text/plain": [
       "<Figure size 640x480 with 1 Axes>"
      ]
     },
     "metadata": {},
     "output_type": "display_data"
    }
   ],
   "source": [
    "plt.hist(sc1_data, 50)\n",
    "plt.show()"
   ]
  },
  {
   "cell_type": "markdown",
   "metadata": {},
   "source": [
    "## Масштабирование данных на основе Z-оценки"
   ]
  },
  {
   "cell_type": "code",
   "execution_count": 58,
   "metadata": {},
   "outputs": [],
   "source": [
    "sc2 = StandardScaler()\n",
    "sc2_data = sc2.fit_transform(data[['Migrants']])"
   ]
  },
  {
   "cell_type": "code",
   "execution_count": 59,
   "metadata": {},
   "outputs": [
    {
     "data": {
      "image/png": "[encoded data removed]",
      "text/plain": [
       "<Figure size 640x480 with 1 Axes>"
      ]
     },
     "metadata": {},
     "output_type": "display_data"
    }
   ],
   "source": [
    "plt.hist(sc2_data, 50)\n",
    "plt.show()"
   ]
  }
 ],
 "metadata": {
  "kernelspec": {
   "display_name": "Python 3 (ipykernel)",
   "language": "python",
   "name": "python3"
  },
  "language_info": {
   "codemirror_mode": {
    "name": "ipython",
    "version": 3
   },
   "file_extension": ".py",
   "mimetype": "text/x-python",
   "name": "python",
   "nbconvert_exporter": "python",
   "pygments_lexer": "ipython3",
   "version": "3.9.13"
  },
  "toc": {
   "base_numbering": 1,
   "nav_menu": {},
   "number_sections": true,
   "sideBar": true,
   "skip_h1_title": false,
   "title_cell": "Table of Contents",
   "title_sidebar": "Contents",
   "toc_cell": false,
   "toc_position": {},
   "toc_section_display": true,
   "toc_window_display": false
  }
 },
 "nbformat": 4,
 "nbformat_minor": 2
}
